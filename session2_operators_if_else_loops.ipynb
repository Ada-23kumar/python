{
  "cells": [
    {
      "cell_type": "markdown",
      "metadata": {
        "id": "y1HMD4oI7FL7"
      },
      "source": [
        "# Operators in Python\n",
        "\n",
        "- Arithmetic Operators\n",
        "- Relational Operators\n",
        "- Logical Operators\n",
        "- Bitwise Operators\n",
        "- Assignment Operators\n",
        "- Membership Operators"
      ]
    },
    {
      "cell_type": "code",
      "execution_count": null,
      "metadata": {
        "colab": {
          "base_uri": "https://localhost:8080/"
        },
        "id": "a7cegk-f7U4-",
        "outputId": "77490d0d-316e-4611-9cd7-8c99e64fca2a"
      },
      "outputs": [
        {
          "name": "stdout",
          "output_type": "stream",
          "text": [
            "11\n",
            "-1\n",
            "30\n",
            "2.5\n",
            "2\n",
            "1\n",
            "25\n"
          ]
        }
      ],
      "source": [
        "# Arithmetric Operators\n",
        "print(5+6)\n",
        "\n",
        "print(5-6)\n",
        "\n",
        "print(5*6)\n",
        "\n",
        "print(5/2)\n",
        "\n",
        "print(5//2)\n",
        "\n",
        "print(5%2)\n",
        "\n",
        "print(5**2)"
      ]
    },
    {
      "cell_type": "code",
      "execution_count": null,
      "metadata": {
        "colab": {
          "base_uri": "https://localhost:8080/"
        },
        "id": "TMIQKhFd7Y5A",
        "outputId": "573867e9-962a-45a6-a313-dcaa8b9a6406"
      },
      "outputs": [
        {
          "name": "stdout",
          "output_type": "stream",
          "text": [
            "False\n",
            "True\n",
            "True\n",
            "True\n",
            "True\n",
            "False\n"
          ]
        }
      ],
      "source": [
        "# Relational Operators\n",
        "print(4>5)\n",
        "\n",
        "print(4<5)\n",
        "\n",
        "print(4>=4)\n",
        "\n",
        "print(4<=4)\n",
        "\n",
        "print(4==4)\n",
        "\n",
        "print(4!=4)"
      ]
    },
    {
      "cell_type": "code",
      "execution_count": null,
      "metadata": {
        "colab": {
          "base_uri": "https://localhost:8080/"
        },
        "id": "vyxdjDbc7avq",
        "outputId": "4c6a1710-fea3-466c-f6b2-f98de20a2a0b"
      },
      "outputs": [
        {
          "name": "stdout",
          "output_type": "stream",
          "text": [
            "0\n",
            "1\n",
            "False\n"
          ]
        }
      ],
      "source": [
        "# Logical Operators\n",
        "print(1 and 0)\n",
        "\n",
        "print(1 or 0)\n",
        "\n",
        "print(not 1)"
      ]
    },
    {
      "cell_type": "code",
      "execution_count": null,
      "metadata": {
        "colab": {
          "base_uri": "https://localhost:8080/"
        },
        "id": "H4KzpSke7d9l",
        "outputId": "5832a648-6430-425c-8fa7-8dbad5d8d4b3"
      },
      "outputs": [
        {
          "name": "stdout",
          "output_type": "stream",
          "text": [
            "2\n",
            "3\n",
            "1\n",
            "-4\n",
            "1\n",
            "20\n"
          ]
        }
      ],
      "source": [
        "# Bitwise Operators\n",
        "\n",
        "# bitwise and\n",
        "print(2 & 3)\n",
        "\n",
        "# bitwise or\n",
        "print(2 | 3)\n",
        "\n",
        "# bitwise xor\n",
        "print(2 ^ 3)\n",
        "\n",
        "print(~3)\n",
        "\n",
        "print(4 >> 2)\n",
        "\n",
        "print(5 << 2)"
      ]
    },
    {
      "cell_type": "code",
      "execution_count": null,
      "metadata": {
        "colab": {
          "base_uri": "https://localhost:8080/"
        },
        "id": "8EEm8eHO7gD_",
        "outputId": "a421f118-2ee3-42da-91ff-3cd06de41755"
      },
      "outputs": [
        {
          "name": "stdout",
          "output_type": "stream",
          "text": [
            "4\n"
          ]
        }
      ],
      "source": [
        "# Assignment Operators\n",
        "\n",
        "# =\n",
        "# a = 2\n",
        "\n",
        "a = 2\n",
        "\n",
        "# a = a % 2\n",
        "a %= 2\n",
        "\n",
        "# a++ ++a\n",
        "\n",
        "print(a)"
      ]
    },
    {
      "cell_type": "code",
      "execution_count": null,
      "metadata": {
        "colab": {
          "base_uri": "https://localhost:8080/"
        },
        "id": "LzrIz7I87h-W",
        "outputId": "d362a8a0-bbae-406f-bd33-fc6fe789e889"
      },
      "outputs": [
        {
          "name": "stdout",
          "output_type": "stream",
          "text": [
            "False\n",
            "False\n"
          ]
        }
      ],
      "source": [
        "# Membership Operators\n",
        "\n",
        "# in/not in\n",
        "\n",
        "print('D' not in 'Delhi')\n",
        "\n",
        "print(1 in [2,3,4,5,6])"
      ]
    },
    {
      "cell_type": "code",
      "execution_count": null,
      "metadata": {
        "colab": {
          "base_uri": "https://localhost:8080/"
        },
        "id": "C-LoVrYGDEuB",
        "outputId": "5842d198-7b4f-4785-cec7-5735603ab873"
      },
      "outputs": [
        {
          "name": "stdout",
          "output_type": "stream",
          "text": [
            "Enter a 3 digit number666\n",
            "18\n"
          ]
        }
      ],
      "source": [
        "# Program - Find the sum of a 3 digit number entered by the user\n",
        "\n",
        "number = int(input('Enter a 3 digit number'))\n",
        "\n",
        "# 345%10 -> 5\n",
        "a = number%10\n",
        "\n",
        "number = number//10\n",
        "\n",
        "# 34%10 -> 4\n",
        "b = number % 10\n",
        "\n",
        "number = number//10\n",
        "# 3 % 10 -> 3\n",
        "c = number % 10\n",
        "\n",
        "print(a + b + c)"
      ]
    },
    {
      "cell_type": "markdown",
      "metadata": {
        "id": "Iq7CzVFs7mWT"
      },
      "source": [
        "# If-else in Python"
      ]
    },
    {
      "cell_type": "code",
      "execution_count": null,
      "metadata": {
        "colab": {
          "base_uri": "https://localhost:8080/"
        },
        "id": "dGz-83pN7oxe",
        "outputId": "01cd71cf-6af3-464a-dcc1-8c21be5e092c"
      },
      "outputs": [
        {
          "name": "stdout",
          "output_type": "stream",
          "text": [
            "enter emailsrhreh\n",
            "enter passworderhetjh\n",
            "Not correct\n"
          ]
        }
      ],
      "source": [
        "# login program and indentation\n",
        "# email -> nitish.campusx@gmail.com\n",
        "# password -> 1234\n",
        "\n",
        "email = input('enter email')\n",
        "password = input('enter password')\n",
        "\n",
        "if email == 'nitish.campusx@gmail.com' and password == '1234':\n",
        "  print('Welcome')\n",
        "elif email == 'nitish.campusx@gmail.com' and password != '1234':\n",
        "  # tell the user\n",
        "  print('Incorrect password')\n",
        "  password = input('enter password again')\n",
        "  if password == '1234':\n",
        "    print('Welcome,finally!')\n",
        "  else:\n",
        "    print('beta tumse na ho paayega!')\n",
        "else:\n",
        "  print('Not correct')"
      ]
    },
    {
      "cell_type": "code",
      "execution_count": null,
      "metadata": {
        "id": "qo_1tY2ABlAX"
      },
      "outputs": [],
      "source": [
        "# if-else examples\n",
        "# 1. Find the min of 3 given numbers\n",
        "# 2. Menu Driven Program"
      ]
    },
    {
      "cell_type": "code",
      "execution_count": null,
      "metadata": {
        "colab": {
          "base_uri": "https://localhost:8080/"
        },
        "id": "gQpTJbMH3W6_",
        "outputId": "3a2ff0d1-a8d2-4b41-eb50-49612c57b612"
      },
      "outputs": [
        {
          "name": "stdout",
          "output_type": "stream",
          "text": [
            "first num4\n",
            "second num1\n",
            "third num10\n",
            "smallest is 1\n"
          ]
        }
      ],
      "source": [
        "# min of 3 number\n",
        "\n",
        "a = int(input('first num'))\n",
        "b = int(input('second num'))\n",
        "c = int(input('third num'))\n",
        "\n",
        "if a<b and a<c:\n",
        "  print('smallest is',a)\n",
        "elif b<c:\n",
        "  print('smallest is',b)\n",
        "else:\n",
        "  print('smallest is',c)"
      ]
    },
    {
      "cell_type": "code",
      "execution_count": null,
      "metadata": {
        "colab": {
          "base_uri": "https://localhost:8080/"
        },
        "id": "hgNqlC5C4jqF",
        "outputId": "d9a4e001-985d-46fe-fdf4-2767dde7d340"
      },
      "outputs": [
        {
          "name": "stdout",
          "output_type": "stream",
          "text": [
            "\n",
            "Hi! how can I help you.\n",
            "1. Enter 1 for pin change\n",
            "2. Enter 2 for balance check\n",
            "3. Enter 3 for withdrawl\n",
            "4. Enter 4 for exit\n",
            "2\n",
            "balance\n"
          ]
        }
      ],
      "source": [
        "# menu driven calculator\n",
        "menu = input(\"\"\"\n",
        "Hi! how can I help you.\n",
        "1. Enter 1 for pin change\n",
        "2. Enter 2 for balance check\n",
        "3. Enter 3 for withdrawl\n",
        "4. Enter 4 for exit\n",
        "\"\"\")\n",
        "\n",
        "if menu == '1':\n",
        "  print('pin change')\n",
        "elif menu == '2':\n",
        "  print('balance')\n",
        "else:\n",
        "  print('exit')"
      ]
    },
    {
      "cell_type": "markdown",
      "metadata": {
        "id": "532_6mva8A6C"
      },
      "source": [
        "# Modules in Python\n",
        "\n",
        "- math\n",
        "- keywords\n",
        "- random\n",
        "- datetime"
      ]
    },
    {
      "cell_type": "code",
      "execution_count": null,
      "metadata": {
        "colab": {
          "base_uri": "https://localhost:8080/"
        },
        "id": "x5VXt7wv8G4o",
        "outputId": "0f191ca5-e4c3-4c79-ecf2-dcbd23cbd770"
      },
      "outputs": [
        {
          "data": {
            "text/plain": [
              "14.0"
            ]
          },
          "execution_count": 61,
          "metadata": {},
          "output_type": "execute_result"
        }
      ],
      "source": [
        "# math\n",
        "import math\n",
        "\n",
        "math.sqrt(196)"
      ]
    },
    {
      "cell_type": "code",
      "execution_count": null,
      "metadata": {
        "colab": {
          "base_uri": "https://localhost:8080/"
        },
        "id": "FLgAX9pz8HBT",
        "outputId": "63de6b39-b796-475b-9b7d-fa22f2019c90"
      },
      "outputs": [
        {
          "name": "stdout",
          "output_type": "stream",
          "text": [
            "['False', 'None', 'True', 'and', 'as', 'assert', 'async', 'await', 'break', 'class', 'continue', 'def', 'del', 'elif', 'else', 'except', 'finally', 'for', 'from', 'global', 'if', 'import', 'in', 'is', 'lambda', 'nonlocal', 'not', 'or', 'pass', 'raise', 'return', 'try', 'while', 'with', 'yield']\n"
          ]
        }
      ],
      "source": [
        "# keyword\n",
        "import keyword\n",
        "print(keyword.kwlist)"
      ]
    },
    {
      "cell_type": "code",
      "execution_count": null,
      "metadata": {
        "colab": {
          "base_uri": "https://localhost:8080/"
        },
        "id": "R0dWpe-w8HSZ",
        "outputId": "3aa87b74-0699-47d7-8316-73de80dbfeb1"
      },
      "outputs": [
        {
          "name": "stdout",
          "output_type": "stream",
          "text": [
            "88\n"
          ]
        }
      ],
      "source": [
        "# random\n",
        "import random\n",
        "print(random.randint(1,100))"
      ]
    },
    {
      "cell_type": "code",
      "execution_count": null,
      "metadata": {
        "colab": {
          "base_uri": "https://localhost:8080/"
        },
        "id": "XNHWXsM0iFn3",
        "outputId": "7d219248-ba98-4b2e-a382-57630acea35c"
      },
      "outputs": [
        {
          "name": "stdout",
          "output_type": "stream",
          "text": [
            "2022-11-08 15:50:21.228643\n"
          ]
        }
      ],
      "source": [
        "# datetime\n",
        "import datetime\n",
        "print(datetime.datetime.now())"
      ]
    },
    {
      "cell_type": "code",
      "execution_count": 1,
      "metadata": {
        "colab": {
          "base_uri": "https://localhost:8080/"
        },
        "id": "ePMxrlzX8CsQ",
        "outputId": "719443f9-8cb6-48fc-9a02-dee02625fc8f"
      },
      "outputs": [
        {
          "name": "stdout",
          "output_type": "stream",
          "text": [
            "\n",
            "Please wait a moment while I gather a list of all available modules...\n",
            "\n"
          ]
        },
        {
          "name": "stderr",
          "output_type": "stream",
          "text": [
            "/opt/ros/jazzy/lib/python3.12/site-packages/angles/__init__.py:60: SyntaxWarning: invalid escape sequence '\\p'\n",
            "  \"\"\" returns the angle in [-2*pi, 2*pi]  going the other way along the unit circle.\n",
            "/opt/ros/jazzy/lib/python3.12/site-packages/angles/__init__.py:76: SyntaxWarning: invalid escape sequence '\\p'\n",
            "  \"\"\" This function is only intended for internal use and not intended for external use.\n",
            "/opt/ros/jazzy/lib/python3.12/site-packages/angles/__init__.py:125: SyntaxWarning: invalid escape sequence '\\p'\n",
            "  \"\"\" Returns the delta from \"from_angle\" to \"to_angle\" making sure it does not violate limits specified by left_limit and right_limit.\n",
            "/opt/ros/jazzy/lib/python3.12/site-packages/angles/__init__.py:181: SyntaxWarning: invalid escape sequence '\\p'\n",
            "  \"\"\" Returns the delta from `from_angle` to `to_angle`, making sure it does not violate limits specified by `left_limit` and `right_limit`.\n",
            "/home/adarsh-kumar/.local/lib/python3.12/site-packages/Crypto/SelfTest/PublicKey/test_ECC_NIST.py:779: UserWarning: Warning: skipping extended tests for P-192 tests from point-at-infinity.org\n",
            "  tv_pai = load_test_vectors((\"PublicKey\", \"ECC\"),\n",
            "/home/adarsh-kumar/.local/lib/python3.12/site-packages/Crypto/SelfTest/PublicKey/test_ECC_NIST.py:800: UserWarning: Warning: skipping extended tests for P-224 tests from point-at-infinity.org\n",
            "  tv_pai = load_test_vectors((\"PublicKey\", \"ECC\"),\n",
            "/home/adarsh-kumar/.local/lib/python3.12/site-packages/Crypto/SelfTest/PublicKey/test_ECC_NIST.py:821: UserWarning: Warning: skipping extended tests for P-256 tests from point-at-infinity.org\n",
            "  tv_pai = load_test_vectors((\"PublicKey\", \"ECC\"),\n",
            "/home/adarsh-kumar/.local/lib/python3.12/site-packages/Crypto/SelfTest/PublicKey/test_ECC_NIST.py:842: UserWarning: Warning: skipping extended tests for P-384 tests from point-at-infinity.org\n",
            "  tv_pai = load_test_vectors((\"PublicKey\", \"ECC\"),\n",
            "/home/adarsh-kumar/.local/lib/python3.12/site-packages/Crypto/SelfTest/PublicKey/test_ECC_NIST.py:863: UserWarning: Warning: skipping extended tests for P-521 tests from point-at-infinity.org\n",
            "  tv_pai = load_test_vectors((\"PublicKey\", \"ECC\"),\n",
            "/home/adarsh-kumar/.local/lib/python3.12/site-packages/Crypto/SelfTest/Signature/test_pkcs1_15.py:70: UserWarning: Warning: skipping extended tests for Signature Verification 186-3\n",
            "  test_vectors_verify = load_test_vectors((\"Signature\", \"PKCS1-v1.5\"),\n",
            "/home/adarsh-kumar/.local/lib/python3.12/site-packages/Crypto/SelfTest/Signature/test_pkcs1_15.py:117: UserWarning: Warning: skipping extended tests for Signature Generation 186-2\n",
            "  test_vectors_sign  = load_test_vectors((\"Signature\", \"PKCS1-v1.5\"),\n",
            "/home/adarsh-kumar/.local/lib/python3.12/site-packages/Crypto/SelfTest/Signature/test_pkcs1_15.py:122: UserWarning: Warning: skipping extended tests for Signature Generation 186-3\n",
            "  test_vectors_sign += load_test_vectors((\"Signature\", \"PKCS1-v1.5\"),\n",
            "/home/adarsh-kumar/.local/lib/python3.12/site-packages/Crypto/SelfTest/Signature/test_pss.py:117: UserWarning: Warning: skipping extended tests for Signature Verification 186-3\n",
            "  test_vectors_verify = load_test_vectors((\"Signature\", \"PKCS1-PSS\"),\n",
            "/home/adarsh-kumar/.local/lib/python3.12/site-packages/Crypto/SelfTest/Signature/test_pss.py:169: UserWarning: Warning: skipping extended tests for Signature Generation 186-2\n",
            "  test_vectors_sign = load_test_vectors((\"Signature\", \"PKCS1-PSS\"),\n",
            "/home/adarsh-kumar/.local/lib/python3.12/site-packages/Crypto/SelfTest/Signature/test_pss.py:174: UserWarning: Warning: skipping extended tests for Signature Generation 186-3\n",
            "  test_vectors_sign += load_test_vectors((\"Signature\", \"PKCS1-PSS\"),\n",
            "/home/adarsh-kumar/.local/lib/python3.12/site-packages/Crypto/SelfTest/Signature/test_dss.py:159: UserWarning: Warning: skipping extended tests for Signature Verification 186-3\n",
            "  test_vectors_verify = load_test_vectors((\"Signature\", \"DSA\"),\n",
            "/home/adarsh-kumar/.local/lib/python3.12/site-packages/Crypto/SelfTest/Signature/test_dss.py:197: UserWarning: Warning: skipping extended tests for Signature Creation 186-3\n",
            "  test_vectors_sign = load_test_vectors((\"Signature\", \"DSA\"),\n",
            "/home/adarsh-kumar/.local/lib/python3.12/site-packages/Crypto/SelfTest/Signature/test_dss.py:307: UserWarning: Warning: skipping extended tests for ECDSA Signature Verification 186-3\n",
            "  test_vectors_verify = load_test_vectors((\"Signature\", \"ECDSA\"),\n",
            "/home/adarsh-kumar/.local/lib/python3.12/site-packages/Crypto/SelfTest/Signature/test_dss.py:314: UserWarning: Warning: skipping extended tests for ECDSA Signature Verification 186-3\n",
            "  test_vectors_verify += load_test_vectors((\"Signature\", \"ECDSA\"),\n",
            "/home/adarsh-kumar/.local/lib/python3.12/site-packages/Crypto/SelfTest/Signature/test_dss.py:357: UserWarning: Warning: skipping extended tests for ECDSA Signature Verification 186-3\n",
            "  test_vectors_sign = load_test_vectors((\"Signature\", \"ECDSA\"),\n",
            "/home/adarsh-kumar/.local/lib/python3.12/site-packages/torch/utils/_pytree.py:185: FutureWarning: optree is installed but the version is too old to support PyTorch Dynamo in C++ pytree. C++ pytree support is disabled. Please consider upgrading optree using `python3 -m pip install --upgrade 'optree>=0.13.0'`.\n",
            "  warnings.warn(\n",
            "/home/adarsh-kumar/.local/lib/python3.12/site-packages/nltk/twitter/__init__.py:20: UserWarning: The twython library has not been installed. Some functionality from the twitter package will not be available.\n",
            "  warnings.warn(\n",
            "/home/adarsh-kumar/.local/lib/python3.12/site-packages/pydantic/experimental/__init__.py:7: PydanticExperimentalWarning: This module is experimental, its contents are subject to change and deprecation.\n",
            "  warnings.warn(\n",
            "/home/adarsh-kumar/.local/lib/python3.12/site-packages/torch/utils/_pytree.py:185: FutureWarning: optree is installed but the version is too old to support PyTorch Dynamo in C++ pytree. C++ pytree support is disabled. Please consider upgrading optree using `python3 -m pip install --upgrade 'optree>=0.13.0'`.\n",
            "  warnings.warn(\n",
            "/home/adarsh-kumar/anaconda3/lib/python3.12/pkgutil.py:78: DeprecationWarning: `torch.distributed._shard.checkpoint` will be deprecated, use `torch.distributed.checkpoint` instead\n",
            "  __import__(info.name)\n",
            "/home/adarsh-kumar/anaconda3/lib/python3.12/pkgutil.py:78: DeprecationWarning: `torch.distributed._sharded_tensor` will be deprecated, use `torch.distributed._shard.sharded_tensor` instead\n",
            "  __import__(info.name)\n",
            "/home/adarsh-kumar/anaconda3/lib/python3.12/pkgutil.py:78: DeprecationWarning: `torch.distributed._sharding_spec` will be deprecated, use `torch.distributed._shard.sharding_spec` instead\n",
            "  __import__(info.name)\n",
            "<frozen importlib._bootstrap>:488: DeprecationWarning: Type google._upb._message.MessageMapContainer uses PyType_Spec with a metaclass that has custom tp_new. This is deprecated and will no longer be allowed in Python 3.14.\n",
            "<frozen importlib._bootstrap>:488: DeprecationWarning: Type google._upb._message.ScalarMapContainer uses PyType_Spec with a metaclass that has custom tp_new. This is deprecated and will no longer be allowed in Python 3.14.\n",
            "2025-03-31 13:28:13.726085: I tensorflow/core/platform/cpu_feature_guard.cc:210] This TensorFlow binary is optimized to use available CPU instructions in performance-critical operations.\n",
            "To enable the following instructions: AVX2 FMA, in other operations, rebuild TensorFlow with the appropriate compiler flags.\n"
          ]
        },
        {
          "name": "stdout",
          "output_type": "stream",
          "text": [
            "\u001b[31m\u001b[1mrequirements:\u001b[0m Ultralytics requirement ['lap>=0.5.12'] not found, attempting AutoUpdate...\n"
          ]
        },
        {
          "name": "stderr",
          "output_type": "stream",
          "text": [
            "\u001b[33mDEPRECATION: textract 1.6.5 has a non-standard dependency specifier extract-msg<=0.29.*. pip 24.1 will enforce this behaviour change. A possible replacement is to upgrade to a newer version of textract or contact the author to suggest that they release a version with a conforming dependency specifiers. Discussion can be found at https://github.com/pypa/pip/issues/12063\u001b[0m\u001b[33m\n",
            "\u001b[0m"
          ]
        },
        {
          "name": "stdout",
          "output_type": "stream",
          "text": [
            "Collecting lap>=0.5.12\n",
            "  Downloading lap-0.5.12-cp312-cp312-manylinux_2_5_x86_64.manylinux1_x86_64.manylinux_2_17_x86_64.manylinux2014_x86_64.whl.metadata (6.2 kB)\n",
            "Requirement already satisfied: numpy>=1.21.6 in /home/adarsh-kumar/anaconda3/lib/python3.12/site-packages (from lap>=0.5.12) (1.26.4)\n",
            "Downloading lap-0.5.12-cp312-cp312-manylinux_2_5_x86_64.manylinux1_x86_64.manylinux_2_17_x86_64.manylinux2014_x86_64.whl (1.7 MB)\n",
            "\u001b[2K   \u001b[90m━━━━━━━━━━━━━━━━━━━━━━━━━━━━━━━━━━━━━━━━\u001b[0m \u001b[32m1.7/1.7 MB\u001b[0m \u001b[31m3.7 MB/s\u001b[0m eta \u001b[36m0:00:00\u001b[0ma \u001b[36m0:00:01\u001b[0m0m\n",
            "\u001b[?25hInstalling collected packages: lap\n",
            "Successfully installed lap-0.5.12\n",
            "\n",
            "\u001b[31m\u001b[1mrequirements:\u001b[0m AutoUpdate success ✅ 10.5s, installed 1 package: ['lap>=0.5.12']\n",
            "\u001b[31m\u001b[1mrequirements:\u001b[0m ⚠️ \u001b[1mRestart runtime or rerun command for updates to take effect\u001b[0m\n",
            "\n"
          ]
        },
        {
          "name": "stderr",
          "output_type": "stream",
          "text": [
            "/home/adarsh-kumar/anaconda3/lib/python3.12/site-packages/OpenGL/platform/egl.py:76: ResourceWarning: unclosed file <_io.TextIOWrapper name='/proc/cpuinfo' mode='r' encoding='UTF-8'>\n",
            "  info = open('/proc/cpuinfo').read()\n",
            "ResourceWarning: Enable tracemalloc to get the object allocation traceback\n",
            "Expected Tk Togl installation in /home/adarsh-kumar/anaconda3/lib/python3.12/site-packages/OpenGL/Tk/togl-linux-64\n",
            "Failure loading Togl package: can't find package Togl, on debian systems this is provided by `libtogl2`\n",
            "/home/adarsh-kumar/anaconda3/lib/python3.12/site-packages/_yaml/__init__.py:18: DeprecationWarning: The _yaml extension module is now located at yaml._yaml and its location is subject to change.  To use the LibYAML-based parser and emitter, import from `yaml`: `from yaml import CLoader as Loader, CDumper as Dumper`.\n",
            "  warnings.warn(\n",
            "/home/adarsh-kumar/anaconda3/lib/python3.12/site-packages/altair/utils/schemapi.py:353: DeprecationWarning: jsonschema.RefResolver is deprecated as of v4.18.0, in favor of the https://github.com/python-jsonschema/referencing library, which provides more compliant referencing behavior as well as more flexible APIs for customization. A future release will remove RefResolver. Please file a feature request (on referencing) if you are missing an API for the kind of customization you need.\n",
            "  resolver = jsonschema.RefResolver.from_schema(root or schema)\n",
            "/home/adarsh-kumar/anaconda3/lib/python3.12/site-packages/boltons/timeutils.py:441: DeprecationWarning: datetime.datetime.utcfromtimestamp() is deprecated and scheduled for removal in a future version. Use timezone-aware objects to represent datetimes in UTC: datetime.datetime.fromtimestamp(timestamp, datetime.UTC).\n",
            "  EPOCH_NAIVE = datetime.utcfromtimestamp(0)\n",
            "/home/adarsh-kumar/anaconda3/lib/python3.12/pkgutil.py:78: DeprecationWarning: conda._vendor.frozendict is deprecated and will be removed in 25.3. Use `frozendict` instead.\n",
            "  __import__(info.name)\n",
            "/home/adarsh-kumar/anaconda3/lib/python3.12/pkgutil.py:78: DeprecationWarning: conda_env.specs is deprecated and will be removed in 25.3. Use `conda.env.specs` instead.\n",
            "  __import__(info.name)\n",
            "/home/adarsh-kumar/anaconda3/lib/python3.12/site-packages/conda_token/repo_config.py:13: DeprecationWarning: conda.cli.python_api is deprecated and will be removed in 25.9. Use `conda.testing.conda_cli` instead.\n",
            "  from conda.cli.python_api import Commands, run_command\n",
            "/home/adarsh-kumar/anaconda3/lib/python3.12/site-packages/IPython/core/pylabtools.py:77: DeprecationWarning: backend2gui is deprecated since IPython 8.24, backends are managed in matplotlib and can be externally registered.\n",
            "  warnings.warn(\n",
            "/home/adarsh-kumar/anaconda3/lib/python3.12/pkgutil.py:78: DeprecationWarning: jax.experimental.array_api import is no longer required as of JAX v0.4.32; jax.numpy supports the array API by default.\n",
            "  __import__(info.name)\n",
            "/home/adarsh-kumar/anaconda3/lib/python3.12/site-packages/traitlets/traitlets.py:3913: DeprecationWarning: Keyword `trait` is deprecated in traitlets 5.0, use `value_trait` instead\n",
            "  warn(\n",
            "/home/adarsh-kumar/anaconda3/lib/python3.12/site-packages/traitlets/traitlets.py:3615: DeprecationWarning: Traits should be given as instances, not types (for example, `Int()`, not `Int`). Passing types is deprecated in traitlets 4.1.\n",
            "  super().__init__(trait=trait, default_value=default_value, **kwargs)\n",
            "/home/adarsh-kumar/anaconda3/lib/python3.12/site-packages/jupyter_lsp/handlers.py:6: DeprecationWarning: jupyter_server.base.zmqhandlers module is deprecated in Jupyter Server 2.0\n",
            "  from jupyter_server.base.zmqhandlers import WebSocketHandler, WebSocketMixin\n",
            "/home/adarsh-kumar/anaconda3/lib/python3.12/pkgutil.py:78: DeprecationWarning: Terminals support has moved to `jupyter_server_terminals`\n",
            "  __import__(info.name)\n",
            "/home/adarsh-kumar/anaconda3/lib/python3.12/site-packages/nbconvert/filters/strings.py:23: DeprecationWarning: Support for bleach <5 will be removed in a future version of nbconvert\n",
            "  from nbconvert.preprocessors.sanitize import _get_default_css_sanitizer\n",
            "/home/adarsh-kumar/anaconda3/lib/python3.12/pkgutil.py:78: NumbaPendingDeprecationWarning: \u001b[1mThe 'pycc' module is pending deprecation. Replacement technology is being developed.\n",
            "\n",
            "Pending Deprecation in Numba 0.57.0. For more information please see: https://numba.readthedocs.io/en/stable/reference/deprecation.html#deprecation-of-the-numba-pycc-module\u001b[0m\n",
            "  __import__(info.name)\n",
            "/home/adarsh-kumar/anaconda3/lib/python3.12/pkgutil.py:78: UserWarning: The numpy.array_api submodule is still experimental. See NEP 47.\n",
            "  __import__(info.name)\n",
            "/home/adarsh-kumar/anaconda3/lib/python3.12/site-packages/partd/pandas.py:6: DeprecationWarning: create_block_manager_from_blocks is deprecated and will be removed in a future version. Use public APIs instead.\n",
            "  from pandas.core.internals import create_block_manager_from_blocks, make_block\n",
            "/home/adarsh-kumar/anaconda3/lib/python3.12/pkgutil.py:78: DeprecationWarning: pkg_resources is deprecated as an API. See https://setuptools.pypa.io/en/latest/pkg_resources.html\n",
            "  __import__(info.name)\n",
            "/home/adarsh-kumar/anaconda3/lib/python3.12/site-packages/pip/_vendor/pkg_resources/__init__.py:2871: DeprecationWarning: Deprecated call to `pkg_resources.declare_namespace('ruamel')`.\n",
            "Implementing implicit namespace packages (as specified in PEP 420) is preferred to `pkg_resources.declare_namespace`. See https://setuptools.pypa.io/en/latest/references/keywords.html#keyword-namespace-packages\n",
            "  declare_namespace(pkg)\n",
            "/home/adarsh-kumar/anaconda3/lib/python3.12/site-packages/pip/_vendor/pkg_resources/__init__.py:2871: DeprecationWarning: Deprecated call to `pkg_resources.declare_namespace('sphinxcontrib')`.\n",
            "Implementing implicit namespace packages (as specified in PEP 420) is preferred to `pkg_resources.declare_namespace`. See https://setuptools.pypa.io/en/latest/references/keywords.html#keyword-namespace-packages\n",
            "  declare_namespace(pkg)\n",
            "/home/adarsh-kumar/anaconda3/lib/python3.12/site-packages/pip/_vendor/pkg_resources/__init__.py:2871: DeprecationWarning: Deprecated call to `pkg_resources.declare_namespace('zope')`.\n",
            "Implementing implicit namespace packages (as specified in PEP 420) is preferred to `pkg_resources.declare_namespace`. See https://setuptools.pypa.io/en/latest/references/keywords.html#keyword-namespace-packages\n",
            "  declare_namespace(pkg)\n",
            "/home/adarsh-kumar/anaconda3/lib/python3.12/site-packages/twisted/web/http.py:103: DeprecationWarning:\n",
            "\n",
            "'cgi' is deprecated and slated for removal in Python 3.13\n",
            "\n"
          ]
        },
        {
          "name": "stdout",
          "output_type": "stream",
          "text": [
            "pygame 2.6.1 (SDL 2.28.4, Python 3.12.4)\n",
            "Hello from the pygame community. https://www.pygame.org/contribute.html\n",
            "Python version: 3.12.4 | packaged by Anaconda, Inc. | (main, Jun 18 2024, 15:12:24) [GCC 11.2.0]\n",
            "GEOS version: 3.11.4-CAPI-1.17.4\n",
            "Numpy version: 1.26.4\n"
          ]
        },
        {
          "name": "stderr",
          "output_type": "stream",
          "text": [
            "/home/adarsh-kumar/anaconda3/lib/python3.12/site-packages/tensorboard/_vendor/html5lib/filters/sanitizer.py:29: DeprecationWarning:\n",
            "\n",
            "html5lib's sanitizer is deprecated; see https://github.com/html5lib/html5lib-python/issues/443 and please let us know if Bleach is unsuitable for your needs\n",
            "\n",
            "/home/adarsh-kumar/anaconda3/lib/python3.12/site-packages/wordcloud/wordcloud.py:35: ResourceWarning:\n",
            "\n",
            "unclosed file <_io.TextIOWrapper name='/home/adarsh-kumar/anaconda3/lib/python3.12/site-packages/wordcloud/stopwords' mode='r' encoding='UTF-8'>\n",
            "\n"
          ]
        },
        {
          "name": "stdout",
          "output_type": "stream",
          "text": [
            "7f0197f6d050da244d93__mypyc conda_index         markdown            rqt_graph\n",
            "ACDEx6              conda_libmamba_solver markdown_it         rqt_gui\n",
            "Crypto              conda_pack          markupsafe          rqt_gui_py\n",
            "IPython             conda_package_handling marshal             rqt_msg\n",
            "OpenGL              conda_package_streaming math                rqt_plot\n",
            "OpenSSL             conda_token         matplotlib          rqt_publisher\n",
            "PIL                 confection          matplotlib_inline   rqt_py_common\n",
            "PyPDF2              configparser        mccabe              rqt_py_console\n",
            "PyQt5               conllu              mdit_py_plugins     rqt_reconfigure\n",
            "__future__          constantly          mdurl               rqt_service_caller\n",
            "__hello__           contextlib          mediapipe           rqt_shell\n",
            "__phello__          contextvars         menuinst            rqt_srv\n",
            "_abc                contourpy           message_filters     rqt_topic\n",
            "_aix_support        control_msgs        mimetypes           rtree\n",
            "_argon2_cffi_bindings controller_manager  mistune             ruamel_yaml\n",
            "_ast                controller_manager_msgs mkl                 runpy\n",
            "_asyncio            cookiecutter        mkl_fft             s3fs\n",
            "_bisect             copy                ml_dtypes           s3transfer\n",
            "_black_version      copyreg             mmap                safetensors\n",
            "_blake2             cpuinfo             modulefinder        sched\n",
            "_brotli             crypt               more_itertools      scipy\n",
            "_bz2                cryptography        moveit_configs_utils scrapy\n",
            "_cffi_backend       cssselect           moveit_msgs         seaborn\n",
            "_codecs             csv                 mpld3               secrets\n",
            "_codecs_cn          ctypes              mpmath              secretstorage\n",
            "_codecs_hk          curl                msgpack             segtok\n",
            "_codecs_iso2022     curses              multidict           select\n",
            "_codecs_jp          custom_interfaces   multipledispatch    selectors\n",
            "_codecs_kr          cv2                 multiprocessing     semver\n",
            "_codecs_tw          cv_bridge           murmurhash          send2trash\n",
            "_collections        cvzone              my_robot_arm_controller sensor_msgs\n",
            "_collections_abc    cycler              mypy                sensor_msgs_py\n",
            "_compat_pickle      cymem               mypy_extensions     sentencepiece\n",
            "_compression        cytoolz             mypyc               seqeval\n",
            "_contextvars        dask                namex               serial\n",
            "_crypt              dask_expr           nav_msgs            service_identity\n",
            "_csv                dataclasses         navigator_updater   service_msgs\n",
            "_ctypes             datashader          nbclient            setuptools\n",
            "_ctypes_test        datetime            nbconvert           shape_msgs\n",
            "_curses             dateutil            nbformat            shapely\n",
            "_curses_panel       dbm                 nest_asyncio        shellingham\n",
            "_datetime           debugpy             netrc               shelve\n",
            "_decimal            decimal             networkx            shlex\n",
            "_distutils_hack     decorator           nis                 shutil\n",
            "_dlib_pybind11      defusedxml          nltk                signal\n",
            "_elementtree        demo_nodes_py       nntplib             sipbuild\n",
            "_functools          deprecated          notebook            site\n",
            "_hashlib            diagnostic_msgs     notebook_shim       six\n",
            "_heapq              diagnostic_updater  ntpath              skimage\n",
            "_imp                diff_match_patch    nturl2path          sklearn\n",
            "_io                 difflib             numba               slugify\n",
            "_json               dill                numbergen           smart_open\n",
            "_locale             dis                 numbers             smmap\n",
            "_lsprof             distributed         numexpr             smtplib\n",
            "_lzma               distro              numpy               snappy\n",
            "_markupbase         dlib                numpydoc            sndhdr\n",
            "_md5                docopt              nvidia              sniffio\n",
            "_multibytecodec     docstring_to_markdown object_recognition_msgs snowballstemmer\n",
            "_multiprocessing    doctest             octomap_msgs        socket\n",
            "_opcode             docutils            opcode              socketserver\n",
            "_operator           docx2txt            openpyxl            socks\n",
            "_osx_support        domain_coordinator  operator            sockshandler\n",
            "_pickle             dotenv              opt_einsum          sortedcontainers\n",
            "_plotly_future_     ebcdic              optparse            sounddevice\n",
            "_plotly_utils       email               optree              soupsieve\n",
            "_posixshmem         encodings           ortools             spacy\n",
            "_posixsubprocess    ensurepip           os                  spacy_legacy\n",
            "_py_abc             entrypoints         osmnx               spacy_loggers\n",
            "_pydatetime         enum                osrf_pycommon       speech_recognition\n",
            "_pydecimal          erfa                ossaudiodev         sphinx\n",
            "_pyio               errno               overrides           spwd\n",
            "_pylong             et_xmlfile          packaging           spyder\n",
            "_pytest             example_interfaces  pal_statistics      spyder_kernels\n",
            "_queue              examples_rclpy_executors pal_statistics_msgs sqlalchemy\n",
            "_random             examples_rclpy_minimal_action_client pandas              sqlite3\n",
            "_sha1               examples_rclpy_minimal_action_server pandocfilters       sqlitedict\n",
            "_sha2               examples_rclpy_minimal_client panel               srdfdom\n",
            "_sha3               examples_rclpy_minimal_publisher param               sre_compile\n",
            "_signal             examples_rclpy_minimal_service parsel              sre_constants\n",
            "_sitebuiltins       examples_rclpy_minimal_subscriber parso               sre_parse\n",
            "_socket             executing           partd               sros2\n",
            "_sounddevice        extract_msg         pasta               srsly\n",
            "_sqlite3            face_recognition    pathlib             ssl\n",
            "_sre                face_recognition_models pathspec            stack_data\n",
            "_ssl                fastjsonschema      patsy               stanfordnlp\n",
            "_stat               faulthandler        pcl_msgs            stat\n",
            "_statistics         fcntl               pdb                 statistics\n",
            "_string             filecmp             pdfminer            statistics_msgs\n",
            "_strptime           fileinput           pendulum_msgs       statsmodels\n",
            "_struct             filelock            pexpect             std_msgs\n",
            "_symtable           fiona               pickle              std_srvs\n",
            "_sysconfigdata__linux_x86_64-linux-gnu flair               pickleshare         stereo_msgs\n",
            "_sysconfigdata_x86_64_conda_cos6_linux_gnu flake8              pickletools         streamlit\n",
            "_sysconfigdata_x86_64_conda_linux_gnu flask               pip                 string\n",
            "_testbuffer         flask_cors          pipes               stringprep\n",
            "_testcapi           flask_sqlalchemy    pkce                struct\n",
            "_testclinic         flatbuffers         pkg_resources       subprocess\n",
            "_testimportmultiple fnmatch             pkginfo             sumy\n",
            "_testinternalcapi   folium              pkgutil             sunau\n",
            "_testmultiphase     fontTools           platform            sympy\n",
            "_testsinglephase    fpdf                platformdirs        symtable\n",
            "_thread             fractions           plistlib            sys\n",
            "_threading_local    frozendict          plotly              sysconfig\n",
            "_tkinter            frozenlist          pluggy              syslog\n",
            "_tokenize           fsspec              ply                 tables\n",
            "_tracemalloc        ftfy                poplib              tabnanny\n",
            "_typing             ftplib              posix               tabulate\n",
            "_uuid               functools           posixpath           tarfile\n",
            "_warnings           functorch           ppbtree             tblib\n",
            "_weakref            gast                pprint              teleop_tools_msgs\n",
            "_weakrefset         gc                  pptree              teleop_twist_keyboard\n",
            "_xxinterpchannels   gdown               pptx                telnetlib\n",
            "_xxsubinterpreters  generate_parameter_library_py preshed             tempfile\n",
            "_xxtestfuzz         genericpath         profile             tenacity\n",
            "_yaml               gensim              prometheus_client   tensorboard\n",
            "_zoneinfo           geometry_msgs       prompt_toolkit      tensorboard_data_server\n",
            "abc                 geopandas           protego             tensorflow\n",
            "absl                getopt              pstats              termcolor\n",
            "accelerate          getpass             psutil              terminado\n",
            "ackermann_msgs      gettext             pty                 termios\n",
            "action_msgs         git                 ptyprocess          test\n",
            "action_tutorials_interfaces gitdb               pure_eval           test_pycosat\n",
            "action_tutorials_py glfw                pwd                 tests\n",
            "actionlib_msgs      glob                py                  text_unidecode\n",
            "actuator_msgs       gps_msgs            py_compile          textblob\n",
            "add_integers        graphlib            pyarrow             textdistance\n",
            "aext_assistant      greenlet            pyasn1              textract\n",
            "aext_assistant_server grp                 pyasn1_modules      textwrap\n",
            "aext_core           grpc                pybind11_abseil     tf2_geometry_msgs\n",
            "aext_core_server    gzip                pyclbr              tf2_kdl\n",
            "aext_panels         h11                 pycodestyle         tf2_msgs\n",
            "aext_panels_server  h5py                pycosat             tf2_py\n",
            "aext_share_notebook hashlib             pycountry           tf2_ros\n",
            "aext_share_notebook_server heapdict            pycparser           tf2_sensor_msgs\n",
            "aext_shared         heapq               pyct                tf2_tools\n",
            "aifc                hmac                pycurl              theora_image_transport\n",
            "aiobotocore         holoviews           pydantic            thinc\n",
            "aiohttp             html                pydantic_core       this\n",
            "aioitertools        http                pydeck              thop\n",
            "aiosignal           httpcore            pydispatch          threading\n",
            "alabaster           httpx               pydoc               threadpoolctl\n",
            "altair              huggingface_hub     pydoc_data          three_merge\n",
            "ament_cmake_test    hvplot              pydocstyle          tifffile\n",
            "ament_copyright     hyperlink           pyexpat             time\n",
            "ament_cppcheck      idlelib             pyfirmata           timeit\n",
            "ament_cpplint       idna                pyflakes            tinycss2\n",
            "ament_flake8        image_geometry      pygame              tkinter\n",
            "ament_index_python  imagecodecs         pygments            tldextract\n",
            "ament_lint          imageio             pylab               tlz\n",
            "ament_lint_cmake    imagesize           pylint              token\n",
            "ament_package       imapclient          pylint_venv         tokenize\n",
            "ament_pep257        imaplib             pyls_spyder         tokenizers\n",
            "ament_uncrustify    imblearn            pylsp               toml\n",
            "ament_xmllint       imghdr              pylsp_black         tomli\n",
            "anaconda_anon_usage immutabledict       pylsp_jsonrpc       tomlkit\n",
            "anaconda_catalogs   importlib           pyodbc              tomllib\n",
            "anaconda_cloud_auth importlib_metadata  pyparsing           toolz\n",
            "anaconda_navigator  importlib_resources pyproj              topic_monitor\n",
            "anaconda_project    incremental         pyrr                torch\n",
            "angles              inflect             pytesseract         torchgen\n",
            "annotated_types     inflection          pytest              torchvision\n",
            "antigravity         iniconfig           python_qt_binding   tornado\n",
            "anyio               inspect             pythonjsonlogger    tqdm\n",
            "appdirs             intake              pytoolconfig        trace\n",
            "archspec            interactive_markers pytorch_revgrad     traceback\n",
            "area                intervaltree        pyttsx3             tracemalloc\n",
            "argcomplete         io                  pytz                traitlets\n",
            "argon2              ipaddress           pyviz_comms         trajectory_msgs\n",
            "argparse            ipykernel           pywt                transformer_smaller_training_vocab\n",
            "arm_controller      ipykernel_launcher  qdarkstyle          transformers\n",
            "array               ipython_genutils    qstylizer           triton\n",
            "arrow               ipywidgets          qt_dotgraph         truststore\n",
            "ast                 isort               qt_gui              tty\n",
            "astroid             isympy              qt_gui_cpp          turtle\n",
            "astropy             itemadapter         qt_gui_py_common    turtledemo\n",
            "astropy_iers_data   itemloaders         qtawesome           turtlesim\n",
            "asttokens           itertools           qtconsole           twisted\n",
            "astunparse          itsdangerous        qtpy                type_description_interfaces\n",
            "async_lru           jax                 quality_of_service_demo_py typeguard\n",
            "asyncio             jaxlib              queue               typer\n",
            "atexit              jedi                queuelib            types\n",
            "atomicwrites        jeepney             quopri              typing\n",
            "attr                jellyfish           random              typing_extensions\n",
            "attrs               jinja2              rcl_interfaces      tzdata\n",
            "audioop             jmespath            rclpy               uc_micro\n",
            "autocommand         joblib              rcutils             ujson\n",
            "automat             joint_state_publisher re                  ultralytics\n",
            "autopep8            joint_state_publisher_gui readline            unicodedata\n",
            "babel               joy_teleop          referencing         unicodedata2\n",
            "backports           joy_tester          regex               unidecode\n",
            "base64              json                repo_cli            unique_identifier_msgs\n",
            "bcrypt              json5               reprlib             unittest\n",
            "bdb                 jsonlines           requests            ur_msgs\n",
            "binaryornot         jsonpatch           requests_file       urdf_parser_py\n",
            "binascii            jsonpointer         requests_toolbelt   urllib\n",
            "binstar_client      jsonschema          resource            urllib3\n",
            "bioc                jsonschema_specifications resource_retriever  uu\n",
            "bisect              jupyter             rfc3339_validator   uuid\n",
            "black               jupyter_client      rfc3986_validator   venv\n",
            "blackd              jupyter_console     rich                vision_msgs\n",
            "bleach              jupyter_core        rlcompleter         visualization_msgs\n",
            "blib2to3            jupyter_events      rmw_dds_common      w3lib\n",
            "blinker             jupyter_lsp         rope                warnings\n",
            "blis                jupyter_server      ros2_controllers_test_nodes wasabi\n",
            "bokeh               jupyter_server_terminals ros2action          watchdog\n",
            "boltons             jupyterlab          ros2bag             wave\n",
            "boto3               jupyterlab_plotly   ros2bag_mcap_cli    wcwidth\n",
            "botocore            jupyterlab_pygments ros2bag_sqlite3_cli weakref\n",
            "bottleneck          jupyterlab_server   ros2cli             weasel\n",
            "branca              jupyterlab_widgets  ros2component       webbrowser\n",
            "breadability        jwt                 ros2controlcli      webencodings\n",
            "brotli              keras               ros2doctor          websocket\n",
            "bs4                 keyring             ros2interface       werkzeug\n",
            "builtin_interfaces  keyword             ros2launch          whatthepatch\n",
            "builtins            kiwisolver          ros2lifecycle       wheel\n",
            "bz2                 langcodes           ros2multicast       widgetsnbextension\n",
            "cProfile            langdetect          ros2node            wikipediaapi\n",
            "cachetools          language_data       ros2param           wordcloud\n",
            "calendar            lap                 ros2pkg             wrapt\n",
            "catalogue           laser_geometry      ros2run             wsgiref\n",
            "certifi             launch              ros2service         wurlitzer\n",
            "cffi                launch_param_builder ros2topic           xacro\n",
            "cgi                 launch_ros          ros_gz_bridge       xarray\n",
            "cgitb               launch_testing      ros_gz_interfaces   xdg\n",
            "chardet             launch_testing_ros  ros_gz_sim          xdrlib\n",
            "charset_normalizer  launch_testing_ros_pytest_entrypoint rosbag2_interfaces  xlrd\n",
            "chunk               launch_xml          rosbag2_py          xlsxwriter\n",
            "clang               launch_yaml         rosgraph_msgs       xml\n",
            "click               lazy_loader         rosidl_adapter      xmlrpc\n",
            "click_plugins       lazy_object_proxy   rosidl_cli          xxlimited\n",
            "cligj               lckr_jupyterlab_variableinspector rosidl_cmake        xxlimited_35\n",
            "cloudpathlib        lib2to3             rosidl_generator_c  xxsubtype\n",
            "cloudpickle         libarchive          rosidl_generator_cpp xyzservices\n",
            "cmath               libmambapy          rosidl_generator_py yaml\n",
            "cmd                 lief                rosidl_generator_type_description yapf\n",
            "code                lifecycle_msgs      rosidl_parser       yapf_third_party\n",
            "codecs              linecache           rosidl_pycommon     yapftests\n",
            "codeop              linkify_it          rosidl_runtime_py   yarl\n",
            "collections         llvmlite            rosidl_typesupport_c yolov8_msgs\n",
            "colorama            lmdb                rosidl_typesupport_cpp zict\n",
            "colorcet            locale              rosidl_typesupport_fastrtps_c zipapp\n",
            "colorsys            locket              rosidl_typesupport_fastrtps_cpp zipfile\n",
            "comm                logging             rosidl_typesupport_introspection_c zipimport\n",
            "compileall          logging_demo        rosidl_typesupport_introspection_cpp zipp\n",
            "composition_interfaces lxml                rouge_score         zlib\n",
            "compressed_rtf      lz4                 rpds                zmq\n",
            "concurrent          lzma                rpyutils            zoneinfo\n",
            "conda               mailbox             rqt_action          zope\n",
            "conda_build         mailcap             rqt_bag             zstandard\n",
            "conda_content_trust map_msgs            rqt_bag_plugins     \n",
            "conda_env           marisa_trie         rqt_console         \n",
            "\n",
            "Enter any module name to get more help.  Or, type \"modules spam\" to search\n",
            "for modules whose name or summary contain the string \"spam\".\n",
            "\n"
          ]
        }
      ],
      "source": [
        "help('modules')"
      ]
    },
    {
      "cell_type": "markdown",
      "metadata": {
        "id": "2Ow6_gWG7ukc"
      },
      "source": [
        "# Loops in Python\n",
        "\n",
        "- Need for loops\n",
        "- While Loop\n",
        "- For Loop"
      ]
    },
    {
      "cell_type": "code",
      "execution_count": null,
      "metadata": {
        "id": "Ig7NIb7L7txg"
      },
      "outputs": [],
      "source": [
        "# While loop example -> program to print the table\n",
        "# Program -> Sum of all digits of a given number\n",
        "# Program -> keep accepting numbers from users till he/she enters a 0 and then find the avg"
      ]
    },
    {
      "cell_type": "code",
      "execution_count": null,
      "metadata": {
        "colab": {
          "base_uri": "https://localhost:8080/"
        },
        "id": "brWSxgiu9rrQ",
        "outputId": "eb64e76c-ee60-4584-9d00-9fd6729d39e8"
      },
      "outputs": [
        {
          "name": "stdout",
          "output_type": "stream",
          "text": [
            "enter the number12\n",
            "12 * 1 = 12\n",
            "12 * 2 = 24\n",
            "12 * 3 = 36\n",
            "12 * 4 = 48\n",
            "12 * 5 = 60\n",
            "12 * 6 = 72\n",
            "12 * 7 = 84\n",
            "12 * 8 = 96\n",
            "12 * 9 = 108\n",
            "12 * 10 = 120\n"
          ]
        }
      ],
      "source": [
        "number = int(input('enter the number'))\n",
        "\n",
        "i = 1\n",
        "\n",
        "while i<11:\n",
        "  print(number,'*',i,'=',number * i)\n",
        "  i += 1"
      ]
    },
    {
      "cell_type": "code",
      "execution_count": null,
      "metadata": {
        "colab": {
          "base_uri": "https://localhost:8080/"
        },
        "id": "Ltsr9n3H73fp",
        "outputId": "a47f2a11-bf75-4a0a-923c-49f318514900"
      },
      "outputs": [
        {
          "name": "stdout",
          "output_type": "stream",
          "text": [
            "1\n",
            "2\n",
            "limit crossed\n"
          ]
        }
      ],
      "source": [
        "# while loop with else\n",
        "\n",
        "x = 1\n",
        "\n",
        "while x < 3:\n",
        "  print(x)\n",
        "  x += 1\n",
        "\n",
        "else:\n",
        "  print('limit crossed')"
      ]
    },
    {
      "cell_type": "code",
      "execution_count": null,
      "metadata": {
        "colab": {
          "base_uri": "https://localhost:8080/"
        },
        "id": "29y5r2cr8MRP",
        "outputId": "c4d707ce-6f6c-49cc-8997-a85ecf01e74e"
      },
      "outputs": [
        {
          "name": "stdout",
          "output_type": "stream",
          "text": [
            "guess karo7\n",
            "galat!guess higher\n",
            "guess karo50\n",
            "galat!guess lower\n",
            "guess karo30\n",
            "galat!guess higher\n",
            "guess karo40\n",
            "galat!guess lower\n",
            "guess karo35\n",
            "galat!guess lower\n",
            "guess karo32\n",
            "galat!guess higher\n",
            "guess karo33\n",
            "correct guess\n",
            "attempts 7\n"
          ]
        }
      ],
      "source": [
        "# Guessing game\n",
        "\n",
        "# generate a random integer between 1 and 100\n",
        "import random\n",
        "jackpot = random.randint(1,100)\n",
        "\n",
        "guess = int(input('guess karo'))\n",
        "counter = 1\n",
        "while guess != jackpot:\n",
        "  if guess < jackpot:\n",
        "    print('galat!guess higher')\n",
        "  else:\n",
        "    print('galat!guess lower')\n",
        "\n",
        "  guess = int(input('guess karo'))\n",
        "  counter += 1\n",
        "\n",
        "else:\n",
        "  print('correct guess')\n",
        "  print('attempts',counter)\n",
        "\n",
        "\n"
      ]
    },
    {
      "cell_type": "code",
      "execution_count": null,
      "metadata": {
        "colab": {
          "base_uri": "https://localhost:8080/"
        },
        "id": "bjjx0fMr8SWh",
        "outputId": "a3bf4676-a68c-499f-fc00-e0fe0f04285b"
      },
      "outputs": [
        {
          "name": "stdout",
          "output_type": "stream",
          "text": [
            "1\n",
            "2\n",
            "3\n",
            "4\n",
            "5\n"
          ]
        }
      ],
      "source": [
        "# For loop demo\n",
        "\n",
        "for i in {1,2,3,4,5}:\n",
        "  print(i)"
      ]
    },
    {
      "cell_type": "code",
      "execution_count": null,
      "metadata": {
        "id": "5ZLWEyFn8g1R"
      },
      "outputs": [],
      "source": [
        "# For loop examples"
      ]
    },
    {
      "cell_type": "markdown",
      "metadata": {
        "id": "EXnzCtohWx2V"
      },
      "source": [
        "### Program - The current population of a town is 10000. The population of the town is increasing at the rate of 10% per year. You have to write a program to find out the population at the end of each of the last 10 years."
      ]
    },
    {
      "cell_type": "code",
      "execution_count": null,
      "metadata": {
        "colab": {
          "base_uri": "https://localhost:8080/"
        },
        "id": "Nc_6lslRW03g",
        "outputId": "c8f8383d-eef0-440d-9a7e-2a0f911d51fa"
      },
      "outputs": [
        {
          "name": "stdout",
          "output_type": "stream",
          "text": [
            "10 10000\n",
            "9 9000.0\n",
            "8 8100.0\n",
            "7 7290.0\n",
            "6 6561.0\n",
            "5 5904.9\n",
            "4 5314.41\n",
            "3 4782.969\n",
            "2 4304.6721\n",
            "1 3874.20489\n"
          ]
        }
      ],
      "source": [
        "curr_pop = 10000\n",
        "\n",
        "for i in range(10,0,-1):\n",
        "  print(i,curr_pop)\n",
        "  curr_pop = curr_pop - 0.1*curr_pop\n"
      ]
    },
    {
      "cell_type": "markdown",
      "metadata": {
        "id": "4xVI9HkgcEla"
      },
      "source": [
        "### Sequence sum\n",
        "\n",
        "1/1! + 2/2! + 3/3! + ..."
      ]
    },
    {
      "cell_type": "code",
      "execution_count": null,
      "metadata": {
        "id": "wGC1eCDecPcB"
      },
      "outputs": [],
      "source": [
        "# code here"
      ]
    },
    {
      "cell_type": "code",
      "execution_count": null,
      "metadata": {
        "id": "PNLWd1WR8dSw"
      },
      "outputs": [],
      "source": [
        "# For loop vs While loops (When to use what?)"
      ]
    },
    {
      "cell_type": "markdown",
      "metadata": {
        "id": "1bdP8FTX87Du"
      },
      "source": [
        "# Nested Loops"
      ]
    },
    {
      "cell_type": "code",
      "execution_count": null,
      "metadata": {
        "id": "-YY5edV98lXq"
      },
      "outputs": [],
      "source": [
        "# Examples"
      ]
    },
    {
      "cell_type": "code",
      "execution_count": null,
      "metadata": {
        "id": "Ym8nRkqxGXLN"
      },
      "outputs": [],
      "source": [
        "# Program - Unique combination of 1,2,3,4\n",
        "# Program - Pattern 1 and 2"
      ]
    },
    {
      "cell_type": "markdown",
      "metadata": {
        "id": "_Hz8L0f3c_3P"
      },
      "source": [
        "### Pattern 1\n",
        "\n",
        "\n",
        "*** <br>\n",
        "**** <br>\n",
        "***<br>\n"
      ]
    },
    {
      "cell_type": "code",
      "execution_count": null,
      "metadata": {
        "id": "YsL_YmxRdNrn"
      },
      "outputs": [],
      "source": []
    },
    {
      "cell_type": "markdown",
      "metadata": {
        "id": "eVAO3tVmdOWV"
      },
      "source": [
        "### Pattern 2\n",
        "\n",
        "1<br>\n",
        "121<br>\n",
        "12321<br>\n",
        "1234321<br>"
      ]
    },
    {
      "cell_type": "code",
      "execution_count": null,
      "metadata": {
        "id": "sHW4YJqcdXzw"
      },
      "outputs": [],
      "source": []
    },
    {
      "cell_type": "markdown",
      "metadata": {
        "id": "8GccSRIt891U"
      },
      "source": [
        "# Loop Control Statement\n",
        "\n",
        "- Break\n",
        "- Continue\n",
        "- Pass"
      ]
    },
    {
      "cell_type": "code",
      "execution_count": null,
      "metadata": {
        "id": "kN9s2dG89DlJ"
      },
      "outputs": [],
      "source": [
        "# Break demo"
      ]
    },
    {
      "cell_type": "code",
      "execution_count": null,
      "metadata": {
        "id": "u09EdMCm9FK_"
      },
      "outputs": [],
      "source": [
        "# Break example (Linear Search) -> Prime number in a given range"
      ]
    },
    {
      "cell_type": "code",
      "execution_count": null,
      "metadata": {
        "id": "3q5asa2l9GYy"
      },
      "outputs": [],
      "source": [
        "# Continue demo"
      ]
    },
    {
      "cell_type": "code",
      "execution_count": null,
      "metadata": {
        "id": "cA8CiMgn9IIT"
      },
      "outputs": [],
      "source": [
        "# Continue Example (Ecommerce)"
      ]
    },
    {
      "cell_type": "code",
      "execution_count": null,
      "metadata": {
        "id": "P7GB16j59J-3"
      },
      "outputs": [],
      "source": [
        "# Pass demo"
      ]
    }
  ],
  "metadata": {
    "colab": {
      "provenance": []
    },
    "kernelspec": {
      "display_name": "base",
      "language": "python",
      "name": "python3"
    },
    "language_info": {
      "codemirror_mode": {
        "name": "ipython",
        "version": 3
      },
      "file_extension": ".py",
      "mimetype": "text/x-python",
      "name": "python",
      "nbconvert_exporter": "python",
      "pygments_lexer": "ipython3",
      "version": "3.12.4"
    }
  },
  "nbformat": 4,
  "nbformat_minor": 0
}
