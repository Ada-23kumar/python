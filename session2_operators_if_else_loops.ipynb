{
  "cells": [
    {
      "cell_type": "markdown",
      "metadata": {
        "id": "y1HMD4oI7FL7"
      },
      "source": [
        "# Operators in Python\n",
        "\n",
        "- Arithmetic Operators\n",
        "- Relational Operators\n",
        "- Logical Operators\n",
        "- Bitwise Operators\n",
        "- Assignment Operators\n",
        "- Membership Operators"
      ]
    },
    {
      "cell_type": "code",
      "execution_count": 20,
      "metadata": {
        "colab": {
          "base_uri": "https://localhost:8080/"
        },
        "id": "a7cegk-f7U4-",
        "outputId": "77490d0d-316e-4611-9cd7-8c99e64fca2a"
      },
      "outputs": [
        {
          "name": "stdout",
          "output_type": "stream",
          "text": [
            "11\n",
            "-1\n",
            "30\n",
            "2.5\n",
            "2\n",
            "1\n",
            "25\n"
          ]
        }
      ],
      "source": [
        "# Arithmetric Operators\n",
        "print(5+6)\n",
        "\n",
        "print(5-6)\n",
        "\n",
        "print(5*6)\n",
        "\n",
        "print(5/2)\n",
        "\n",
        "print(5//2)\n",
        "\n",
        "print(5%2)\n",
        "\n",
        "print(5**2)"
      ]
    },
    {
      "cell_type": "code",
      "execution_count": 21,
      "metadata": {
        "colab": {
          "base_uri": "https://localhost:8080/"
        },
        "id": "TMIQKhFd7Y5A",
        "outputId": "573867e9-962a-45a6-a313-dcaa8b9a6406"
      },
      "outputs": [
        {
          "name": "stdout",
          "output_type": "stream",
          "text": [
            "False\n",
            "True\n",
            "True\n",
            "True\n",
            "True\n",
            "False\n"
          ]
        }
      ],
      "source": [
        "# Relational Operators\n",
        "print(4>5)\n",
        "\n",
        "print(4<5)\n",
        "\n",
        "print(4>=4)\n",
        "\n",
        "print(4<=4)\n",
        "\n",
        "print(4==4)\n",
        "\n",
        "print(4!=4)"
      ]
    },
    {
      "cell_type": "code",
      "execution_count": 22,
      "metadata": {
        "colab": {
          "base_uri": "https://localhost:8080/"
        },
        "id": "vyxdjDbc7avq",
        "outputId": "4c6a1710-fea3-466c-f6b2-f98de20a2a0b"
      },
      "outputs": [
        {
          "name": "stdout",
          "output_type": "stream",
          "text": [
            "0\n",
            "1\n",
            "False\n"
          ]
        }
      ],
      "source": [
        "# Logical Operators\n",
        "print(1 and 0)\n",
        "\n",
        "print(1 or 0)\n",
        "\n",
        "print(not 1)"
      ]
    },
    {
      "cell_type": "code",
      "execution_count": 23,
      "metadata": {
        "colab": {
          "base_uri": "https://localhost:8080/"
        },
        "id": "H4KzpSke7d9l",
        "outputId": "5832a648-6430-425c-8fa7-8dbad5d8d4b3"
      },
      "outputs": [
        {
          "name": "stdout",
          "output_type": "stream",
          "text": [
            "2\n",
            "3\n",
            "1\n",
            "-4\n",
            "1\n",
            "20\n"
          ]
        }
      ],
      "source": [
        "# Bitwise Operators\n",
        "\n",
        "# bitwise and\n",
        "print(2 & 3)\n",
        "\n",
        "# bitwise or\n",
        "print(2 | 3)\n",
        "\n",
        "# bitwise xor\n",
        "print(2 ^ 3)\n",
        "\n",
        "print(~3)\n",
        "\n",
        "print(4 >> 2)\n",
        "\n",
        "print(5 << 2)"
      ]
    },
    {
      "cell_type": "code",
      "execution_count": 24,
      "metadata": {
        "colab": {
          "base_uri": "https://localhost:8080/"
        },
        "id": "8EEm8eHO7gD_",
        "outputId": "a421f118-2ee3-42da-91ff-3cd06de41755"
      },
      "outputs": [
        {
          "name": "stdout",
          "output_type": "stream",
          "text": [
            "0\n"
          ]
        }
      ],
      "source": [
        "# Assignment Operators\n",
        "\n",
        "# =\n",
        "# a = 2\n",
        "\n",
        "a = 2\n",
        "\n",
        "# a = a % 2\n",
        "a %= 2\n",
        "\n",
        "# a++ ++a\n",
        "\n",
        "print(a)"
      ]
    },
    {
      "cell_type": "code",
      "execution_count": 25,
      "metadata": {
        "colab": {
          "base_uri": "https://localhost:8080/"
        },
        "id": "LzrIz7I87h-W",
        "outputId": "d362a8a0-bbae-406f-bd33-fc6fe789e889"
      },
      "outputs": [
        {
          "name": "stdout",
          "output_type": "stream",
          "text": [
            "False\n",
            "False\n"
          ]
        }
      ],
      "source": [
        "# Membership Operators\n",
        "\n",
        "# in/not in\n",
        "\n",
        "print('D' not in 'Delhi')\n",
        "\n",
        "print(1 in [2,3,4,5,6])"
      ]
    },
    {
      "cell_type": "code",
      "execution_count": 26,
      "metadata": {
        "colab": {
          "base_uri": "https://localhost:8080/"
        },
        "id": "C-LoVrYGDEuB",
        "outputId": "5842d198-7b4f-4785-cec7-5735603ab873"
      },
      "outputs": [
        {
          "ename": "ValueError",
          "evalue": "invalid literal for int() with base 10: '23 12 34'",
          "output_type": "error",
          "traceback": [
            "\u001b[0;31m---------------------------------------------------------------------------\u001b[0m",
            "\u001b[0;31mValueError\u001b[0m                                Traceback (most recent call last)",
            "Cell \u001b[0;32mIn[26], line 3\u001b[0m\n\u001b[1;32m      1\u001b[0m \u001b[38;5;66;03m# Program - Find the sum of a 3 digit number entered by the user\u001b[39;00m\n\u001b[0;32m----> 3\u001b[0m number \u001b[38;5;241m=\u001b[39m \u001b[38;5;28mint\u001b[39m(\u001b[38;5;28minput\u001b[39m(\u001b[38;5;124m'\u001b[39m\u001b[38;5;124mEnter a 3 digit number\u001b[39m\u001b[38;5;124m'\u001b[39m))\n\u001b[1;32m      5\u001b[0m \u001b[38;5;66;03m# 345%10 -> 5\u001b[39;00m\n\u001b[1;32m      6\u001b[0m a \u001b[38;5;241m=\u001b[39m number\u001b[38;5;241m%\u001b[39m\u001b[38;5;241m10\u001b[39m\n",
            "\u001b[0;31mValueError\u001b[0m: invalid literal for int() with base 10: '23 12 34'"
          ]
        }
      ],
      "source": [
        "# Program - Find the sum of a 3 digit number entered by the user\n",
        "\n",
        "number = int(input('Enter a 3 digit number'))\n",
        "\n",
        "# 345%10 -> 5\n",
        "a = number%10\n",
        "\n",
        "number = number//10\n",
        "\n",
        "# 34%10 -> 4\n",
        "b = number % 10\n",
        "\n",
        "number = number//10\n",
        "# 3 % 10 -> 3\n",
        "c = number % 10\n",
        "\n",
        "print(a + b + c)"
      ]
    },
    {
      "cell_type": "markdown",
      "metadata": {
        "id": "Iq7CzVFs7mWT"
      },
      "source": [
        "# If-else in Python"
      ]
    },
    {
      "cell_type": "code",
      "execution_count": null,
      "metadata": {
        "colab": {
          "base_uri": "https://localhost:8080/"
        },
        "id": "dGz-83pN7oxe",
        "outputId": "01cd71cf-6af3-464a-dcc1-8c21be5e092c"
      },
      "outputs": [
        {
          "name": "stdout",
          "output_type": "stream",
          "text": [
            "enter emailsrhreh\n",
            "enter passworderhetjh\n",
            "Not correct\n"
          ]
        }
      ],
      "source": [
        "# login program and indentation\n",
        "# email -> nitish.campusx@gmail.com\n",
        "# password -> 1234\n",
        "\n",
        "email = input('enter email')\n",
        "password = input('enter password')\n",
        "\n",
        "if email == 'nitish.campusx@gmail.com' and password == '1234':\n",
        "  print('Welcome')\n",
        "elif email == 'nitish.campusx@gmail.com' and password != '1234':\n",
        "  # tell the user\n",
        "  print('Incorrect password')\n",
        "  password = input('enter password again')\n",
        "  if password == '1234':\n",
        "    print('Welcome,finally!')\n",
        "  else:\n",
        "    print('beta tumse na ho paayega!')\n",
        "else:\n",
        "  print('Not correct')"
      ]
    },
    {
      "cell_type": "code",
      "execution_count": null,
      "metadata": {
        "id": "qo_1tY2ABlAX"
      },
      "outputs": [],
      "source": [
        "# if-else examples\n",
        "# 1. Find the min of 3 given numbers\n",
        "# 2. Menu Driven Program"
      ]
    },
    {
      "cell_type": "code",
      "execution_count": null,
      "metadata": {
        "colab": {
          "base_uri": "https://localhost:8080/"
        },
        "id": "gQpTJbMH3W6_",
        "outputId": "3a2ff0d1-a8d2-4b41-eb50-49612c57b612"
      },
      "outputs": [
        {
          "name": "stdout",
          "output_type": "stream",
          "text": [
            "first num4\n",
            "second num1\n",
            "third num10\n",
            "smallest is 1\n"
          ]
        }
      ],
      "source": [
        "# min of 3 number\n",
        "\n",
        "a = int(input('first num'))\n",
        "b = int(input('second num'))\n",
        "c = int(input('third num'))\n",
        "\n",
        "if a<b and a<c:\n",
        "  print('smallest is',a)\n",
        "elif b<c:\n",
        "  print('smallest is',b)\n",
        "else:\n",
        "  print('smallest is',c)"
      ]
    },
    {
      "cell_type": "code",
      "execution_count": null,
      "metadata": {
        "colab": {
          "base_uri": "https://localhost:8080/"
        },
        "id": "hgNqlC5C4jqF",
        "outputId": "d9a4e001-985d-46fe-fdf4-2767dde7d340"
      },
      "outputs": [
        {
          "name": "stdout",
          "output_type": "stream",
          "text": [
            "\n",
            "Hi! how can I help you.\n",
            "1. Enter 1 for pin change\n",
            "2. Enter 2 for balance check\n",
            "3. Enter 3 for withdrawl\n",
            "4. Enter 4 for exit\n",
            "2\n",
            "balance\n"
          ]
        }
      ],
      "source": [
        "# menu driven calculator\n",
        "menu = input(\"\"\"\n",
        "Hi! how can I help you.\n",
        "1. Enter 1 for pin change\n",
        "2. Enter 2 for balance check\n",
        "3. Enter 3 for withdrawl\n",
        "4. Enter 4 for exit\n",
        "\"\"\")\n",
        "\n",
        "if menu == '1':\n",
        "  print('pin change')\n",
        "elif menu == '2':\n",
        "  print('balance')\n",
        "else:\n",
        "  print('exit')"
      ]
    },
    {
      "cell_type": "markdown",
      "metadata": {
        "id": "532_6mva8A6C"
      },
      "source": [
        "# Modules in Python\n",
        "\n",
        "- math\n",
        "- keywords\n",
        "- random\n",
        "- datetime"
      ]
    },
    {
      "cell_type": "code",
      "execution_count": null,
      "metadata": {
        "colab": {
          "base_uri": "https://localhost:8080/"
        },
        "id": "x5VXt7wv8G4o",
        "outputId": "0f191ca5-e4c3-4c79-ecf2-dcbd23cbd770"
      },
      "outputs": [
        {
          "data": {
            "text/plain": [
              "14.0"
            ]
          },
          "execution_count": 61,
          "metadata": {},
          "output_type": "execute_result"
        }
      ],
      "source": [
        "# math\n",
        "import math\n",
        "\n",
        "math.sqrt(196)"
      ]
    },
    {
      "cell_type": "code",
      "execution_count": null,
      "metadata": {
        "colab": {
          "base_uri": "https://localhost:8080/"
        },
        "id": "FLgAX9pz8HBT",
        "outputId": "63de6b39-b796-475b-9b7d-fa22f2019c90"
      },
      "outputs": [
        {
          "name": "stdout",
          "output_type": "stream",
          "text": [
            "['False', 'None', 'True', 'and', 'as', 'assert', 'async', 'await', 'break', 'class', 'continue', 'def', 'del', 'elif', 'else', 'except', 'finally', 'for', 'from', 'global', 'if', 'import', 'in', 'is', 'lambda', 'nonlocal', 'not', 'or', 'pass', 'raise', 'return', 'try', 'while', 'with', 'yield']\n"
          ]
        }
      ],
      "source": [
        "# keyword\n",
        "import keyword\n",
        "print(keyword.kwlist)"
      ]
    },
    {
      "cell_type": "code",
      "execution_count": null,
      "metadata": {
        "colab": {
          "base_uri": "https://localhost:8080/"
        },
        "id": "R0dWpe-w8HSZ",
        "outputId": "3aa87b74-0699-47d7-8316-73de80dbfeb1"
      },
      "outputs": [
        {
          "name": "stdout",
          "output_type": "stream",
          "text": [
            "77\n"
          ]
        }
      ],
      "source": [
        "# random\n",
        "import random\n",
        "print(random.randint(1,100))"
      ]
    },
    {
      "cell_type": "code",
      "execution_count": null,
      "metadata": {
        "colab": {
          "base_uri": "https://localhost:8080/"
        },
        "id": "XNHWXsM0iFn3",
        "outputId": "7d219248-ba98-4b2e-a382-57630acea35c"
      },
      "outputs": [
        {
          "name": "stdout",
          "output_type": "stream",
          "text": [
            "2025-02-13 18:01:05.436252\n"
          ]
        }
      ],
      "source": [
        "# datetime\n",
        "import datetime\n",
        "print(datetime.datetime.now())"
      ]
    },
    {
      "cell_type": "code",
      "execution_count": null,
      "metadata": {
        "colab": {
          "base_uri": "https://localhost:8080/"
        },
        "id": "ePMxrlzX8CsQ",
        "outputId": "719443f9-8cb6-48fc-9a02-dee02625fc8f"
      },
      "outputs": [
        {
          "name": "stdout",
          "output_type": "stream",
          "text": [
            "\n",
            "Please wait a moment while I gather a list of all available modules...\n",
            "\n"
          ]
        },
        {
          "name": "stderr",
          "output_type": "stream",
          "text": [
            "/opt/ros/jazzy/lib/python3.12/site-packages/angles/__init__.py:60: SyntaxWarning: invalid escape sequence '\\p'\n",
            "  \"\"\" returns the angle in [-2*pi, 2*pi]  going the other way along the unit circle.\n",
            "/opt/ros/jazzy/lib/python3.12/site-packages/angles/__init__.py:76: SyntaxWarning: invalid escape sequence '\\p'\n",
            "  \"\"\" This function is only intended for internal use and not intended for external use.\n",
            "/opt/ros/jazzy/lib/python3.12/site-packages/angles/__init__.py:125: SyntaxWarning: invalid escape sequence '\\p'\n",
            "  \"\"\" Returns the delta from \"from_angle\" to \"to_angle\" making sure it does not violate limits specified by left_limit and right_limit.\n",
            "/opt/ros/jazzy/lib/python3.12/site-packages/angles/__init__.py:181: SyntaxWarning: invalid escape sequence '\\p'\n",
            "  \"\"\" Returns the delta from `from_angle` to `to_angle`, making sure it does not violate limits specified by `left_limit` and `right_limit`.\n",
            "Expected Tk Togl installation in /home/adarsh-kumar/anaconda3/lib/python3.12/site-packages/OpenGL/Tk/togl-linux-64\n",
            "Failure loading Togl package: can't find package Togl, on debian systems this is provided by `libtogl2`\n",
            "2025-02-13 18:01:34.271942: I tensorflow/core/platform/cpu_feature_guard.cc:210] This TensorFlow binary is optimized to use available CPU instructions in performance-critical operations.\n",
            "To enable the following instructions: AVX2 FMA, in other operations, rebuild TensorFlow with the appropriate compiler flags.\n",
            "/home/adarsh-kumar/anaconda3/lib/python3.12/site-packages/nltk/twitter/__init__.py:20: UserWarning: The twython library has not been installed. Some functionality from the twitter package will not be available.\n",
            "  warnings.warn(\n",
            "/home/adarsh-kumar/anaconda3/lib/python3.12/pkgutil.py:78: UserWarning: The numpy.array_api submodule is still experimental. See NEP 47.\n",
            "  __import__(info.name)\n"
          ]
        },
        {
          "name": "stdout",
          "output_type": "stream",
          "text": [
            "pygame 2.6.1 (SDL 2.28.4, Python 3.12.4)\n",
            "Hello from the pygame community. https://www.pygame.org/contribute.html\n",
            "Python version: 3.12.4 | packaged by Anaconda, Inc. | (main, Jun 18 2024, 15:12:24) [GCC 11.2.0]\n",
            "GEOS version: 3.11.4-CAPI-1.17.4\n",
            "Numpy version: 1.26.4\n"
          ]
        },
        {
          "name": "stderr",
          "output_type": "stream",
          "text": [
            "Traceback (most recent call last):\n",
            "  File \"/home/adarsh-kumar/anaconda3/lib/python3.12/site-packages/torch/_inductor/compile_worker/__main__.py\", line 7, in <module>\n",
            "    from torch._inductor.async_compile import pre_fork_setup\n",
            "  File \"/home/adarsh-kumar/anaconda3/lib/python3.12/site-packages/torch/__init__.py\", line 33, in <module>\n",
            "    from ._utils_internal import get_file_path, prepare_multiprocessing_environment, \\\n",
            "  File \"/home/adarsh-kumar/anaconda3/lib/python3.12/site-packages/torch/_utils_internal.py\", line 6, in <module>\n",
            "    import tempfile\n",
            "  File \"/home/adarsh-kumar/anaconda3/lib/python3.12/tempfile.py\", line 45, in <module>\n",
            "    from random import Random as _Random\n",
            "  File \"/home/adarsh-kumar/anaconda3/lib/python3.12/random.py\", line 54, in <module>\n",
            "    from math import log as _log, exp as _exp, pi as _pi, e as _e, ceil as _ceil\n",
            "ImportError: cannot import name 'log' from 'math' (/home/adarsh-kumar/anaconda3/lib/python3.12/site-packages/pygame/math.cpython-312-x86_64-linux-gnu.so)\n",
            "/home/adarsh-kumar/anaconda3/lib/python3.12/pkgutil.py:78: DeprecationWarning:\n",
            "\n",
            "`torch.distributed._shard.checkpoint` will be deprecated, use `torch.distributed.checkpoint` instead\n",
            "\n",
            "/home/adarsh-kumar/anaconda3/lib/python3.12/pkgutil.py:78: DeprecationWarning:\n",
            "\n",
            "`torch.distributed._sharded_tensor` will be deprecated, use `torch.distributed._shard.sharded_tensor` instead\n",
            "\n",
            "/home/adarsh-kumar/anaconda3/lib/python3.12/pkgutil.py:78: DeprecationWarning:\n",
            "\n",
            "`torch.distributed._sharding_spec` will be deprecated, use `torch.distributed._shard.sharding_spec` instead\n",
            "\n",
            "/home/adarsh-kumar/anaconda3/lib/python3.12/site-packages/torch/distributed/algorithms/_optimizer_overlap/optimizer_overlap.py:9: DeprecationWarning:\n",
            "\n",
            "`TorchScript` support for functional optimizers is deprecated and will be removed in a future PyTorch release. Consider using the `torch.compile` optimizer instead.\n",
            "\n",
            "/home/adarsh-kumar/anaconda3/lib/python3.12/site-packages/wordcloud/wordcloud.py:35: ResourceWarning:\n",
            "\n",
            "unclosed file <_io.TextIOWrapper name='/home/adarsh-kumar/anaconda3/lib/python3.12/site-packages/wordcloud/stopwords' mode='r' encoding='UTF-8'>\n",
            "\n"
          ]
        },
        {
          "name": "stdout",
          "output_type": "stream",
          "text": [
            "7f0197f6d050da244d93__mypyc conda_build         markdown            rqt_graph\n",
            "IPython             conda_content_trust markdown_it         rqt_gui\n",
            "OpenGL              conda_env           markupsafe          rqt_gui_py\n",
            "OpenSSL             conda_index         marshal             rqt_msg\n",
            "PIL                 conda_libmamba_solver math                rqt_plot\n",
            "PyQt5               conda_pack          matplotlib          rqt_publisher\n",
            "__future__          conda_package_handling matplotlib_inline   rqt_py_common\n",
            "__hello__           conda_package_streaming mccabe              rqt_py_console\n",
            "__phello__          conda_token         mdit_py_plugins     rqt_reconfigure\n",
            "_abc                confection          mdurl               rqt_service_caller\n",
            "_aix_support        configparser        mediapipe           rqt_shell\n",
            "_argon2_cffi_bindings conllu              menuinst            rqt_srv\n",
            "_ast                constantly          message_filters     rqt_topic\n",
            "_asyncio            contextlib          mimetypes           rtree\n",
            "_bisect             contextvars         mistune             ruamel_yaml\n",
            "_black_version      contourpy           mkl                 runpy\n",
            "_blake2             cookiecutter        mkl_fft             s3fs\n",
            "_brotli             copy                ml_dtypes           s3transfer\n",
            "_bz2                copyreg             mmap                safetensors\n",
            "_cffi_backend       cpuinfo             modulefinder        sched\n",
            "_codecs             crypt               more_itertools      scipy\n",
            "_codecs_cn          cryptography        mpld3               scrapy\n",
            "_codecs_hk          cssselect           mpmath              seaborn\n",
            "_codecs_iso2022     csv                 msgpack             secrets\n",
            "_codecs_jp          ctypes              multidict           secretstorage\n",
            "_codecs_kr          curl                multipledispatch    segtok\n",
            "_codecs_tw          curses              multiprocessing     select\n",
            "_collections        cv2                 murmurhash          selectors\n",
            "_collections_abc    cv_bridge           my_robot_controller semver\n",
            "_compat_pickle      cvzone              mypy                send2trash\n",
            "_compression        cycler              mypy_extensions     sensor_msgs\n",
            "_contextvars        cymem               mypyc               sensor_msgs_py\n",
            "_crypt              cytoolz             namex               sentencepiece\n",
            "_csv                dask                nav_msgs            seqeval\n",
            "_ctypes             dask_expr           navigator_updater   serial\n",
            "_ctypes_test        dataclasses         nbclient            service_identity\n",
            "_curses             datashader          nbconvert           service_msgs\n",
            "_curses_panel       datetime            nbformat            setup\n",
            "_datetime           dateutil            nest_asyncio        setuptools\n",
            "_decimal            dbm                 netrc               shape_msgs\n",
            "_distutils_hack     debugpy             networkx            shapely\n",
            "_dlib_pybind11      decimal             nis                 shellingham\n",
            "_elementtree        decorator           nltk                shelve\n",
            "_functools          defusedxml          nntplib             shlex\n",
            "_hashlib            demo_nodes_py       notebook            shutil\n",
            "_heapq              deprecated          notebook_shim       signal\n",
            "_imp                diagnostic_msgs     ntpath              sipbuild\n",
            "_io                 diff_match_patch    nturl2path          site\n",
            "_json               difflib             numba               six\n",
            "_locale             dill                numbergen           skimage\n",
            "_lsprof             dis                 numbers             sklearn\n",
            "_lzma               distributed         numexpr             slugify\n",
            "_markupbase         distro              numpy               smart_open\n",
            "_md5                dlib                numpydoc            smmap\n",
            "_multibytecodec     docopt              nvidia              smtplib\n",
            "_multiprocessing    docstring_to_markdown opcode              snappy\n",
            "_opcode             doctest             openpyxl            sndhdr\n",
            "_operator           docutils            operator            sniffio\n",
            "_osx_support        domain_coordinator  opt_einsum          snowballstemmer\n",
            "_pickle             dotenv              optparse            socket\n",
            "_plotly_future_     email               optree              socketserver\n",
            "_plotly_utils       encodings           ortools             socks\n",
            "_posixshmem         ensurepip           os                  sockshandler\n",
            "_posixsubprocess    entrypoints         osmnx               sortedcontainers\n",
            "_py_abc             enum                osrf_pycommon       sounddevice\n",
            "_pydatetime         erfa                ossaudiodev         soupsieve\n",
            "_pydecimal          errno               overrides           spacy\n",
            "_pyio               et_xmlfile          packaging           spacy_legacy\n",
            "_pylong             example_interfaces  pandas              spacy_loggers\n",
            "_pytest             examples_rclpy_executors pandocfilters       sphinx\n",
            "_queue              examples_rclpy_minimal_action_client panel               spwd\n",
            "_random             examples_rclpy_minimal_action_server param               spyder\n",
            "_sha1               examples_rclpy_minimal_client parsel              spyder_kernels\n",
            "_sha2               examples_rclpy_minimal_publisher parso               sqlalchemy\n",
            "_sha3               examples_rclpy_minimal_service partd               sqlite3\n",
            "_signal             examples_rclpy_minimal_subscriber pasta               sqlitedict\n",
            "_sitebuiltins       executing           pathlib             sre_compile\n",
            "_socket             face_recognition    pathspec            sre_constants\n",
            "_sounddevice        face_recognition_models patsy               sre_parse\n",
            "_sqlite3            fastjsonschema      pcl_msgs            sros2\n",
            "_sre                faulthandler        pdb                 srsly\n",
            "_ssl                fcntl               pendulum_msgs       ssl\n",
            "_stat               filecmp             pexpect             stack_data\n",
            "_statistics         fileinput           pickle              stanfordnlp\n",
            "_string             filelock            pickleshare         stat\n",
            "_strptime           fiona               pickletools         statistics\n",
            "_struct             flair               pip                 statistics_msgs\n",
            "_symtable           flake8              pipes               statsmodels\n",
            "_sysconfigdata__linux_x86_64-linux-gnu flask               pkce                std_msgs\n",
            "_sysconfigdata_x86_64_conda_cos6_linux_gnu flask_cors          pkg_resources       std_srvs\n",
            "_sysconfigdata_x86_64_conda_linux_gnu flask_sqlalchemy    pkginfo             stereo_msgs\n",
            "_testbuffer         flatbuffers         pkgutil             streamlit\n",
            "_testcapi           fnmatch             platform            string\n",
            "_testclinic         folium              platformdirs        stringprep\n",
            "_testimportmultiple fontTools           plistlib            struct\n",
            "_testinternalcapi   fpdf                plotly              subprocess\n",
            "_testmultiphase     fractions           pluggy              sunau\n",
            "_testsinglephase    frozendict          ply                 sympy\n",
            "_thread             frozenlist          poplib              symtable\n",
            "_threading_local    fsspec              posix               sys\n",
            "_tkinter            ftfy                posixpath           sysconfig\n",
            "_tokenize           ftplib              ppbtree             syslog\n",
            "_tracemalloc        functools           pprint              tables\n",
            "_typing             functorch           pptree              tabnanny\n",
            "_uuid               gast                preshed             tabulate\n",
            "_warnings           gc                  profile             tarfile\n",
            "_weakref            gdown               prometheus_client   tblib\n",
            "_weakrefset         genericpath         prompt_toolkit      teleop_twist_keyboard\n",
            "_xxinterpchannels   gensim              protego             telnetlib\n",
            "_xxsubinterpreters  geometry_msgs       pstats              tempfile\n",
            "_xxtestfuzz         geopandas           psutil              tenacity\n",
            "_yaml               getopt              pty                 tensorboard\n",
            "_zoneinfo           getpass             ptyprocess          tensorboard_data_server\n",
            "abc                 gettext             pure_eval           tensorflow\n",
            "absl                git                 pwd                 termcolor\n",
            "accelerate          gitdb               py                  terminado\n",
            "action_msgs         glfw                py_compile          termios\n",
            "action_tutorials_interfaces glob                pyarrow             test\n",
            "action_tutorials_py graphlib            pyasn1              test_pycosat\n",
            "actionlib_msgs      greenlet            pyasn1_modules      tests\n",
            "aext_assistant      grp                 pybind11_abseil     text_unidecode\n",
            "aext_assistant_server grpc                pyclbr              textblob\n",
            "aext_core           gzip                pycodestyle         textdistance\n",
            "aext_core_server    h11                 pycosat             textwrap\n",
            "aext_panels         h5py                pycparser           tf2_geometry_msgs\n",
            "aext_panels_server  hashlib             pyct                tf2_kdl\n",
            "aext_share_notebook heapdict            pycurl              tf2_msgs\n",
            "aext_share_notebook_server heapq               pydantic            tf2_py\n",
            "aext_shared         hmac                pydantic_core       tf2_ros\n",
            "aifc                holoviews           pydeck              tf2_sensor_msgs\n",
            "aiobotocore         html                pydispatch          tf2_tools\n",
            "aiohttp             http                pydoc               thinc\n",
            "aioitertools        httpcore            pydoc_data          this\n",
            "aiosignal           httpx               pydocstyle          threading\n",
            "alabaster           huggingface_hub     pyexpat             threadpoolctl\n",
            "altair              hvplot              pyfirmata           three_merge\n",
            "ament_cmake_test    hyperlink           pyflakes            tifffile\n",
            "ament_copyright     idlelib             pygame              time\n",
            "ament_cppcheck      idna                pygments            timeit\n",
            "ament_cpplint       image_geometry      pylab               tinycss2\n",
            "ament_flake8        imagecodecs         pylint              tkinter\n",
            "ament_index_python  imageio             pylint_venv         tldextract\n",
            "ament_lint          imagesize           pyls_spyder         tlz\n",
            "ament_lint_cmake    imaplib             pylsp               token\n",
            "ament_package       imblearn            pylsp_black         tokenize\n",
            "ament_pep257        imghdr              pylsp_jsonrpc       tokenizers\n",
            "ament_uncrustify    immutabledict       pyodbc              toml\n",
            "ament_xmllint       importlib           pyparsing           tomli\n",
            "anaconda_anon_usage importlib_metadata  pyproj              tomlkit\n",
            "anaconda_catalogs   importlib_resources pyrr                tomllib\n",
            "anaconda_cloud_auth incremental         pytesseract         toolz\n",
            "anaconda_navigator  inflect             pytest              topic_monitor\n",
            "anaconda_project    inflection          python_qt_binding   torch\n",
            "angles              iniconfig           pythonjsonlogger    torchgen\n",
            "annotated_types     inspect             pytoolconfig        tornado\n",
            "antigravity         intake              pytorch_revgrad     tqdm\n",
            "anyio               interactive_markers pyttsx3             trace\n",
            "appdirs             intervaltree        pytz                traceback\n",
            "archspec            io                  pyviz_comms         tracemalloc\n",
            "argon2              ipaddress           pywt                traitlets\n",
            "argparse            ipykernel           qdarkstyle          trajectory_msgs\n",
            "array               ipykernel_launcher  qstylizer           transformer_smaller_training_vocab\n",
            "arrow               ipython_genutils    qt_dotgraph         transformers\n",
            "ast                 ipywidgets          qt_gui              triton\n",
            "astroid             isort               qt_gui_cpp          truststore\n",
            "astropy             isympy              qt_gui_py_common    tty\n",
            "astropy_iers_data   itemadapter         qtawesome           turtle\n",
            "asttokens           itemloaders         qtconsole           turtledemo\n",
            "astunparse          itertools           qtpy                turtlesim\n",
            "async_lru           itsdangerous        quality_of_service_demo_py twisted\n",
            "asyncio             jax                 queue               type_description_interfaces\n",
            "atexit              jaxlib              queuelib            typeguard\n",
            "atomicwrites        jedi                quopri              typer\n",
            "attr                jeepney             random              types\n",
            "attrs               jellyfish           rcl_interfaces      typing\n",
            "audioop             jinja2              rclpy               typing_extensions\n",
            "autocommand         jmespath            rcutils             tzdata\n",
            "automat             joblib              re                  uc_micro\n",
            "autopep8            json                readline            ujson\n",
            "babel               json5               referencing         unicodedata\n",
            "backports           jsonlines           regex               unicodedata2\n",
            "base64              jsonpatch           repo_cli            unidecode\n",
            "bcrypt              jsonpointer         reprlib             unique_identifier_msgs\n",
            "bdb                 jsonschema          requests            unittest\n",
            "binaryornot         jsonschema_specifications requests_file       urllib\n",
            "binascii            jupyter             requests_toolbelt   urllib3\n",
            "binstar_client      jupyter_client      resource            uu\n",
            "bioc                jupyter_console     resource_retriever  uuid\n",
            "bisect              jupyter_core        rfc3339_validator   venv\n",
            "black               jupyter_events      rfc3986_validator   visualization_msgs\n",
            "blackd              jupyter_lsp         rich                w3lib\n",
            "bleach              jupyter_server      rlcompleter         warnings\n",
            "blib2to3            jupyter_server_terminals rmw_dds_common      wasabi\n",
            "blinker             jupyterlab          rope                watchdog\n",
            "blis                jupyterlab_plotly   ros2action          wave\n",
            "bokeh               jupyterlab_pygments ros2bag             wcwidth\n",
            "boltons             jupyterlab_server   ros2bag_mcap_cli    weakref\n",
            "boto3               jupyterlab_widgets  ros2bag_sqlite3_cli weasel\n",
            "botocore            jwt                 ros2cli             webbrowser\n",
            "bottleneck          keras               ros2component       webencodings\n",
            "branca              keyring             ros2doctor          websocket\n",
            "brotli              keyword             ros2interface       werkzeug\n",
            "bs4                 kiwisolver          ros2launch          whatthepatch\n",
            "builtin_interfaces  langcodes           ros2lifecycle       wheel\n",
            "builtins            langdetect          ros2multicast       widgetsnbextension\n",
            "bz2                 language_data       ros2node            wikipediaapi\n",
            "cProfile            laser_geometry      ros2param           wordcloud\n",
            "cachetools          launch              ros2pkg             wrapt\n",
            "calendar            launch_ros          ros2run             wsgiref\n",
            "catalogue           launch_testing      ros2service         wurlitzer\n",
            "certifi             launch_testing_ros  ros2topic           xarray\n",
            "cffi                launch_testing_ros_pytest_entrypoint rosbag2_interfaces  xdg\n",
            "cgi                 launch_xml          rosbag2_py          xdrlib\n",
            "cgitb               launch_yaml         rosgraph_msgs       xml\n",
            "chardet             lazy_loader         rosidl_adapter      xmlrpc\n",
            "charset_normalizer  lazy_object_proxy   rosidl_cli          xxlimited\n",
            "chunk               lckr_jupyterlab_variableinspector rosidl_cmake        xxlimited_35\n",
            "clang               lib2to3             rosidl_generator_c  xxsubtype\n",
            "click               libarchive          rosidl_generator_cpp xyzservices\n",
            "click_plugins       libmambapy          rosidl_generator_py yaml\n",
            "cligj               lief                rosidl_generator_type_description yapf\n",
            "cloudpathlib        lifecycle_msgs      rosidl_parser       yapf_third_party\n",
            "cloudpickle         linecache           rosidl_pycommon     yapftests\n",
            "cmath               linkify_it          rosidl_runtime_py   yarl\n",
            "cmd                 llvmlite            rosidl_typesupport_c zict\n",
            "code                lmdb                rosidl_typesupport_cpp zipapp\n",
            "codecs              locale              rosidl_typesupport_fastrtps_c zipfile\n",
            "codeop              locket              rosidl_typesupport_fastrtps_cpp zipimport\n",
            "collections         logging             rosidl_typesupport_introspection_c zipp\n",
            "colorama            logging_demo        rosidl_typesupport_introspection_cpp zlib\n",
            "colorcet            lxml                rouge_score         zmq\n",
            "colorsys            lz4                 rpds                zoneinfo\n",
            "comm                lzma                rpyutils            zope\n",
            "compileall          mailbox             rqt_action          zstandard\n",
            "composition_interfaces mailcap             rqt_bag             \n",
            "concurrent          map_msgs            rqt_bag_plugins     \n",
            "conda               marisa_trie         rqt_console         \n",
            "\n",
            "Enter any module name to get more help.  Or, type \"modules spam\" to search\n",
            "for modules whose name or summary contain the string \"spam\".\n",
            "\n"
          ]
        }
      ],
      "source": [
        "help('modules')"
      ]
    },
    {
      "cell_type": "markdown",
      "metadata": {
        "id": "2Ow6_gWG7ukc"
      },
      "source": [
        "# Loops in Python\n",
        "\n",
        "- Need for loops\n",
        "- While Loop\n",
        "- For Loop"
      ]
    },
    {
      "cell_type": "code",
      "execution_count": null,
      "metadata": {
        "id": "Ig7NIb7L7txg"
      },
      "outputs": [],
      "source": [
        "# While loop example -> program to print the table\n",
        "# Program -> Sum of all digits of a given number\n",
        "# Program -> keep accepting numbers from users till he/she enters a 0 and then find the avg"
      ]
    },
    {
      "cell_type": "code",
      "execution_count": null,
      "metadata": {
        "colab": {
          "base_uri": "https://localhost:8080/"
        },
        "id": "brWSxgiu9rrQ",
        "outputId": "eb64e76c-ee60-4584-9d00-9fd6729d39e8"
      },
      "outputs": [
        {
          "name": "stdout",
          "output_type": "stream",
          "text": [
            "enter the number12\n",
            "12 * 1 = 12\n",
            "12 * 2 = 24\n",
            "12 * 3 = 36\n",
            "12 * 4 = 48\n",
            "12 * 5 = 60\n",
            "12 * 6 = 72\n",
            "12 * 7 = 84\n",
            "12 * 8 = 96\n",
            "12 * 9 = 108\n",
            "12 * 10 = 120\n"
          ]
        }
      ],
      "source": [
        "number = int(input('enter the number'))\n",
        "\n",
        "i = 1\n",
        "\n",
        "while i<11:\n",
        "  print(number,'*',i,'=',number * i)\n",
        "  i += 1"
      ]
    },
    {
      "cell_type": "code",
      "execution_count": null,
      "metadata": {
        "colab": {
          "base_uri": "https://localhost:8080/"
        },
        "id": "Ltsr9n3H73fp",
        "outputId": "a47f2a11-bf75-4a0a-923c-49f318514900"
      },
      "outputs": [
        {
          "name": "stdout",
          "output_type": "stream",
          "text": [
            "1\n",
            "2\n",
            "limit crossed\n"
          ]
        }
      ],
      "source": [
        "# while loop with else\n",
        "\n",
        "x = 1\n",
        "\n",
        "while x < 3:\n",
        "  print(x)\n",
        "  x += 1\n",
        "\n",
        "else:\n",
        "  print('limit crossed')"
      ]
    },
    {
      "cell_type": "code",
      "execution_count": null,
      "metadata": {
        "colab": {
          "base_uri": "https://localhost:8080/"
        },
        "id": "29y5r2cr8MRP",
        "outputId": "c4d707ce-6f6c-49cc-8997-a85ecf01e74e"
      },
      "outputs": [
        {
          "name": "stdout",
          "output_type": "stream",
          "text": [
            "guess karo7\n",
            "galat!guess higher\n",
            "guess karo50\n",
            "galat!guess lower\n",
            "guess karo30\n",
            "galat!guess higher\n",
            "guess karo40\n",
            "galat!guess lower\n",
            "guess karo35\n",
            "galat!guess lower\n",
            "guess karo32\n",
            "galat!guess higher\n",
            "guess karo33\n",
            "correct guess\n",
            "attempts 7\n"
          ]
        }
      ],
      "source": [
        "# Guessing game\n",
        "\n",
        "# generate a random integer between 1 and 100\n",
        "import random\n",
        "jackpot = random.randint(1,100)\n",
        "\n",
        "guess = int(input('guess karo'))\n",
        "counter = 1\n",
        "while guess != jackpot:\n",
        "  if guess < jackpot:\n",
        "    print('galat!guess higher')\n",
        "  else:\n",
        "    print('galat!guess lower')\n",
        "\n",
        "  guess = int(input('guess karo'))\n",
        "  counter += 1\n",
        "\n",
        "else:\n",
        "  print('correct guess')\n",
        "  print('attempts',counter)\n",
        "\n",
        "\n"
      ]
    },
    {
      "cell_type": "code",
      "execution_count": null,
      "metadata": {
        "colab": {
          "base_uri": "https://localhost:8080/"
        },
        "id": "bjjx0fMr8SWh",
        "outputId": "a3bf4676-a68c-499f-fc00-e0fe0f04285b"
      },
      "outputs": [
        {
          "name": "stdout",
          "output_type": "stream",
          "text": [
            "1\n",
            "2\n",
            "3\n",
            "4\n",
            "5\n"
          ]
        }
      ],
      "source": [
        "# For loop demo\n",
        "\n",
        "for i in {1,2,3,4,5}:\n",
        "  print(i)"
      ]
    },
    {
      "cell_type": "code",
      "execution_count": null,
      "metadata": {
        "id": "5ZLWEyFn8g1R"
      },
      "outputs": [],
      "source": [
        "# For loop examples"
      ]
    },
    {
      "cell_type": "markdown",
      "metadata": {
        "id": "EXnzCtohWx2V"
      },
      "source": [
        "### Program - The current population of a town is 10000. The population of the town is increasing at the rate of 10% per year. You have to write a program to find out the population at the end of each of the last 10 years."
      ]
    },
    {
      "cell_type": "code",
      "execution_count": null,
      "metadata": {
        "colab": {
          "base_uri": "https://localhost:8080/"
        },
        "id": "Nc_6lslRW03g",
        "outputId": "c8f8383d-eef0-440d-9a7e-2a0f911d51fa"
      },
      "outputs": [
        {
          "name": "stdout",
          "output_type": "stream",
          "text": [
            "10 10000\n",
            "9 9000.0\n",
            "8 8100.0\n",
            "7 7290.0\n",
            "6 6561.0\n",
            "5 5904.9\n",
            "4 5314.41\n",
            "3 4782.969\n",
            "2 4304.6721\n",
            "1 3874.20489\n"
          ]
        }
      ],
      "source": [
        "curr_pop = 10000\n",
        "\n",
        "for i in range(10,0,-1):\n",
        "  print(i,curr_pop)\n",
        "  curr_pop = curr_pop - 0.1*curr_pop\n"
      ]
    },
    {
      "cell_type": "markdown",
      "metadata": {
        "id": "4xVI9HkgcEla"
      },
      "source": [
        "### Sequence sum\n",
        "\n",
        "1/1! + 2/2! + 3/3! + ..."
      ]
    },
    {
      "cell_type": "code",
      "execution_count": null,
      "metadata": {
        "id": "wGC1eCDecPcB"
      },
      "outputs": [],
      "source": [
        "# code here"
      ]
    },
    {
      "cell_type": "code",
      "execution_count": null,
      "metadata": {
        "id": "PNLWd1WR8dSw"
      },
      "outputs": [],
      "source": [
        "# For loop vs While loops (When to use what?)"
      ]
    },
    {
      "cell_type": "markdown",
      "metadata": {
        "id": "1bdP8FTX87Du"
      },
      "source": [
        "# Nested Loops"
      ]
    },
    {
      "cell_type": "code",
      "execution_count": null,
      "metadata": {
        "id": "-YY5edV98lXq"
      },
      "outputs": [],
      "source": [
        "# Examples"
      ]
    },
    {
      "cell_type": "code",
      "execution_count": null,
      "metadata": {
        "id": "Ym8nRkqxGXLN"
      },
      "outputs": [],
      "source": [
        "# Program - Unique combination of 1,2,3,4\n",
        "# Program - Pattern 1 and 2"
      ]
    },
    {
      "cell_type": "markdown",
      "metadata": {
        "id": "_Hz8L0f3c_3P"
      },
      "source": [
        "### Pattern 1\n",
        "\n",
        "\n",
        "*** <br>\n",
        "**** <br>\n",
        "***<br>\n"
      ]
    },
    {
      "cell_type": "code",
      "execution_count": null,
      "metadata": {
        "id": "YsL_YmxRdNrn"
      },
      "outputs": [],
      "source": []
    },
    {
      "cell_type": "markdown",
      "metadata": {
        "id": "eVAO3tVmdOWV"
      },
      "source": [
        "### Pattern 2\n",
        "\n",
        "1<br>\n",
        "121<br>\n",
        "12321<br>\n",
        "1234321<br>"
      ]
    },
    {
      "cell_type": "code",
      "execution_count": null,
      "metadata": {
        "id": "sHW4YJqcdXzw"
      },
      "outputs": [],
      "source": []
    },
    {
      "cell_type": "markdown",
      "metadata": {
        "id": "8GccSRIt891U"
      },
      "source": [
        "# Loop Control Statement\n",
        "\n",
        "- Break\n",
        "- Continue\n",
        "- Pass"
      ]
    },
    {
      "cell_type": "code",
      "execution_count": null,
      "metadata": {
        "id": "kN9s2dG89DlJ"
      },
      "outputs": [],
      "source": [
        "# Break demo"
      ]
    },
    {
      "cell_type": "code",
      "execution_count": null,
      "metadata": {
        "id": "u09EdMCm9FK_"
      },
      "outputs": [],
      "source": [
        "# Break example (Linear Search) -> Prime number in a given range"
      ]
    },
    {
      "cell_type": "code",
      "execution_count": null,
      "metadata": {
        "id": "3q5asa2l9GYy"
      },
      "outputs": [],
      "source": [
        "# Continue demo"
      ]
    },
    {
      "cell_type": "code",
      "execution_count": null,
      "metadata": {
        "id": "cA8CiMgn9IIT"
      },
      "outputs": [],
      "source": [
        "# Continue Example (Ecommerce)"
      ]
    },
    {
      "cell_type": "code",
      "execution_count": null,
      "metadata": {
        "id": "P7GB16j59J-3"
      },
      "outputs": [],
      "source": [
        "# Pass demo"
      ]
    }
  ],
  "metadata": {
    "colab": {
      "provenance": []
    },
    "kernelspec": {
      "display_name": "base",
      "language": "python",
      "name": "python3"
    },
    "language_info": {
      "codemirror_mode": {
        "name": "ipython",
        "version": 3
      },
      "file_extension": ".py",
      "mimetype": "text/x-python",
      "name": "python",
      "nbconvert_exporter": "python",
      "pygments_lexer": "ipython3",
      "version": "3.12.4"
    }
  },
  "nbformat": 4,
  "nbformat_minor": 0
}
